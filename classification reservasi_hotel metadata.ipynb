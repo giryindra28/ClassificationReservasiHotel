{
 "cells": [
  {
   "cell_type": "markdown",
   "metadata": {
    "id": "IJO-n2byJ_lY"
   },
   "source": [
    "## CAPSTONE PROJECT - CLASSIFICATION"
   ]
  },
  {
   "cell_type": "markdown",
   "metadata": {
    "id": "rZR9IwjIJ_lb"
   },
   "source": [
    "#### IMPORT PACKAGES"
   ]
  },
  {
   "cell_type": "code",
   "execution_count": 1,
   "metadata": {
    "id": "7EZ9sGkuJ_lc"
   },
   "outputs": [],
   "source": [
    "import pandas as pd\n",
    "import matplotlib.pyplot as plt\n",
    "import seaborn as sns\n",
    "\n",
    "\n",
    "import statsmodels.api as sm\n",
    "from sklearn.preprocessing import LabelEncoder, StandardScaler, MinMaxScaler\n",
    "from sklearn.model_selection import train_test_split, cross_validate, cross_val_score, KFold, GridSearchCV\n",
    "from sklearn.metrics import accuracy_score, precision_score, recall_score, f1_score\n",
    "from sklearn.linear_model import LogisticRegression\n",
    "from sklearn.svm import SVC"
   ]
  },
  {
   "cell_type": "markdown",
   "metadata": {
    "id": "f4DCJr9kJ_lc"
   },
   "source": [
    "#### READ DATASET"
   ]
  },
  {
   "cell_type": "code",
   "execution_count": 2,
   "metadata": {
    "id": "fcrxS0OHJ_ld"
   },
   "outputs": [
    {
     "data": {
      "text/html": [
       "<div>\n",
       "<style scoped>\n",
       "    .dataframe tbody tr th:only-of-type {\n",
       "        vertical-align: middle;\n",
       "    }\n",
       "\n",
       "    .dataframe tbody tr th {\n",
       "        vertical-align: top;\n",
       "    }\n",
       "\n",
       "    .dataframe thead th {\n",
       "        text-align: right;\n",
       "    }\n",
       "</style>\n",
       "<table border=\"1\" class=\"dataframe\">\n",
       "  <thead>\n",
       "    <tr style=\"text-align: right;\">\n",
       "      <th></th>\n",
       "      <th>tipe_hotel</th>\n",
       "      <th>pembatalan</th>\n",
       "      <th>waktu_tunggu</th>\n",
       "      <th>tahun_kedatangan</th>\n",
       "      <th>bulan_kedatangan</th>\n",
       "      <th>minggu_kedatangan</th>\n",
       "      <th>tanggal_kedatangan</th>\n",
       "      <th>menginap_di_weekend</th>\n",
       "      <th>menginap_in_week_nights</th>\n",
       "      <th>dewasa</th>\n",
       "      <th>...</th>\n",
       "      <th>tipe_ruang</th>\n",
       "      <th>tipe_kamar_ditentukan</th>\n",
       "      <th>perubahan_pemesanan</th>\n",
       "      <th>tipe_deposit</th>\n",
       "      <th>company</th>\n",
       "      <th>days_in_waiting_list</th>\n",
       "      <th>tipe_customer</th>\n",
       "      <th>adr</th>\n",
       "      <th>required_car_parking_spaces</th>\n",
       "      <th>status_reservasi</th>\n",
       "    </tr>\n",
       "  </thead>\n",
       "  <tbody>\n",
       "    <tr>\n",
       "      <th>0</th>\n",
       "      <td>Resort Hotel</td>\n",
       "      <td>Tidak</td>\n",
       "      <td>342</td>\n",
       "      <td>2017</td>\n",
       "      <td>July</td>\n",
       "      <td>27</td>\n",
       "      <td>1</td>\n",
       "      <td>0</td>\n",
       "      <td>0</td>\n",
       "      <td>2</td>\n",
       "      <td>...</td>\n",
       "      <td>C</td>\n",
       "      <td>C</td>\n",
       "      <td>3</td>\n",
       "      <td>No Deposit</td>\n",
       "      <td>NaN</td>\n",
       "      <td>0</td>\n",
       "      <td>Transient</td>\n",
       "      <td>0</td>\n",
       "      <td>0.0</td>\n",
       "      <td>Check-Out</td>\n",
       "    </tr>\n",
       "    <tr>\n",
       "      <th>1</th>\n",
       "      <td>Resort Hotel</td>\n",
       "      <td>Tidak</td>\n",
       "      <td>737</td>\n",
       "      <td>2017</td>\n",
       "      <td>July</td>\n",
       "      <td>27</td>\n",
       "      <td>1</td>\n",
       "      <td>0</td>\n",
       "      <td>0</td>\n",
       "      <td>2</td>\n",
       "      <td>...</td>\n",
       "      <td>C</td>\n",
       "      <td>C</td>\n",
       "      <td>4</td>\n",
       "      <td>No Deposit</td>\n",
       "      <td>NaN</td>\n",
       "      <td>0</td>\n",
       "      <td>Transient</td>\n",
       "      <td>0</td>\n",
       "      <td>0.0</td>\n",
       "      <td>Check-Out</td>\n",
       "    </tr>\n",
       "    <tr>\n",
       "      <th>2</th>\n",
       "      <td>Resort Hotel</td>\n",
       "      <td>Tidak</td>\n",
       "      <td>7</td>\n",
       "      <td>2017</td>\n",
       "      <td>July</td>\n",
       "      <td>27</td>\n",
       "      <td>1</td>\n",
       "      <td>0</td>\n",
       "      <td>1</td>\n",
       "      <td>1</td>\n",
       "      <td>...</td>\n",
       "      <td>A</td>\n",
       "      <td>C</td>\n",
       "      <td>0</td>\n",
       "      <td>No Deposit</td>\n",
       "      <td>NaN</td>\n",
       "      <td>0</td>\n",
       "      <td>Transient</td>\n",
       "      <td>75</td>\n",
       "      <td>0.0</td>\n",
       "      <td>Check-Out</td>\n",
       "    </tr>\n",
       "    <tr>\n",
       "      <th>3</th>\n",
       "      <td>Resort Hotel</td>\n",
       "      <td>Tidak</td>\n",
       "      <td>13</td>\n",
       "      <td>2017</td>\n",
       "      <td>July</td>\n",
       "      <td>27</td>\n",
       "      <td>1</td>\n",
       "      <td>0</td>\n",
       "      <td>1</td>\n",
       "      <td>1</td>\n",
       "      <td>...</td>\n",
       "      <td>A</td>\n",
       "      <td>A</td>\n",
       "      <td>0</td>\n",
       "      <td>No Deposit</td>\n",
       "      <td>NaN</td>\n",
       "      <td>0</td>\n",
       "      <td>Transient</td>\n",
       "      <td>75</td>\n",
       "      <td>0.0</td>\n",
       "      <td>Check-Out</td>\n",
       "    </tr>\n",
       "    <tr>\n",
       "      <th>4</th>\n",
       "      <td>Resort Hotel</td>\n",
       "      <td>Tidak</td>\n",
       "      <td>14</td>\n",
       "      <td>2017</td>\n",
       "      <td>July</td>\n",
       "      <td>27</td>\n",
       "      <td>1</td>\n",
       "      <td>0</td>\n",
       "      <td>2</td>\n",
       "      <td>2</td>\n",
       "      <td>...</td>\n",
       "      <td>A</td>\n",
       "      <td>A</td>\n",
       "      <td>0</td>\n",
       "      <td>No Deposit</td>\n",
       "      <td>NaN</td>\n",
       "      <td>0</td>\n",
       "      <td>Transient</td>\n",
       "      <td>98</td>\n",
       "      <td>0.0</td>\n",
       "      <td>Check-Out</td>\n",
       "    </tr>\n",
       "  </tbody>\n",
       "</table>\n",
       "<p>5 rows × 28 columns</p>\n",
       "</div>"
      ],
      "text/plain": [
       "     tipe_hotel pembatalan  waktu_tunggu  tahun_kedatangan bulan_kedatangan  \\\n",
       "0  Resort Hotel      Tidak           342              2017             July   \n",
       "1  Resort Hotel      Tidak           737              2017             July   \n",
       "2  Resort Hotel      Tidak             7              2017             July   \n",
       "3  Resort Hotel      Tidak            13              2017             July   \n",
       "4  Resort Hotel      Tidak            14              2017             July   \n",
       "\n",
       "   minggu_kedatangan  tanggal_kedatangan  menginap_di_weekend  \\\n",
       "0                 27                   1                    0   \n",
       "1                 27                   1                    0   \n",
       "2                 27                   1                    0   \n",
       "3                 27                   1                    0   \n",
       "4                 27                   1                    0   \n",
       "\n",
       "   menginap_in_week_nights  dewasa  ...  tipe_ruang  tipe_kamar_ditentukan  \\\n",
       "0                        0       2  ...           C                      C   \n",
       "1                        0       2  ...           C                      C   \n",
       "2                        1       1  ...           A                      C   \n",
       "3                        1       1  ...           A                      A   \n",
       "4                        2       2  ...           A                      A   \n",
       "\n",
       "  perubahan_pemesanan tipe_deposit company  days_in_waiting_list  \\\n",
       "0                   3   No Deposit     NaN                     0   \n",
       "1                   4   No Deposit     NaN                     0   \n",
       "2                   0   No Deposit     NaN                     0   \n",
       "3                   0   No Deposit     NaN                     0   \n",
       "4                   0   No Deposit     NaN                     0   \n",
       "\n",
       "   tipe_customer  adr required_car_parking_spaces status_reservasi  \n",
       "0      Transient    0                         0.0        Check-Out  \n",
       "1      Transient    0                         0.0        Check-Out  \n",
       "2      Transient   75                         0.0        Check-Out  \n",
       "3      Transient   75                         0.0        Check-Out  \n",
       "4      Transient   98                         0.0        Check-Out  \n",
       "\n",
       "[5 rows x 28 columns]"
      ]
     },
     "execution_count": 2,
     "metadata": {},
     "output_type": "execute_result"
    }
   ],
   "source": [
    "data = pd.read_csv('C:/Users/giryi/Junior DataScientist/reservasi_hotel2.csv')\n",
    "data.head()"
   ]
  },
  {
   "cell_type": "markdown",
   "metadata": {
    "id": "fd42oBYAJ_ld"
   },
   "source": [
    "#### PROBLEM STATEMENT"
   ]
  },
  {
   "cell_type": "markdown",
   "metadata": {
    "id": "1b0-dMMOJ_le"
   },
   "source": [
    "##### 1.Bagaimana profiling dari customer dan bagaimana karakterisitik customer berdasarkan resort hotel dan city hotel \n",
    "##### Melakukan analysis dengan detail, dengan grafik / tabel / penjelasan…\n",
    "\n",
    "##### 2.Bagaimana karakteristik customer yang melakukan pembatalan dan penerapan apa yang bisa diterapkan untuk meminimalkan customer membatalkan pesanan\n",
    "##### Melakukan analysis dengan detail, dengan grafik / tabel / penjelasan..\n",
    "\n",
    "##### 3.Membuat machine learning dan kebijakan berdasarkan model machine learning\n",
    "##### Melakukan experiment seminimalnya 3 algoritma klasisifikasi agar mendapatkan hasil akurasi yang maksimal"
   ]
  },
  {
   "cell_type": "markdown",
   "metadata": {},
   "source": [
    "#### DATA PRE-PROCESSING"
   ]
  },
  {
   "cell_type": "markdown",
   "metadata": {},
   "source": [
    "##### Untuk melihat range data ,type data, dan mengetahui total columns, dan karakteristik data"
   ]
  },
  {
   "cell_type": "code",
   "execution_count": 3,
   "metadata": {},
   "outputs": [
    {
     "name": "stdout",
     "output_type": "stream",
     "text": [
      "<class 'pandas.core.frame.DataFrame'>\n",
      "RangeIndex: 119390 entries, 0 to 119389\n",
      "Data columns (total 28 columns):\n",
      " #   Column                                 Non-Null Count   Dtype  \n",
      "---  ------                                 --------------   -----  \n",
      " 0   tipe_hotel                             119390 non-null  object \n",
      " 1   pembatalan                             119390 non-null  object \n",
      " 2   waktu_tunggu                           119390 non-null  int64  \n",
      " 3   tahun_kedatangan                       119390 non-null  int64  \n",
      " 4   bulan_kedatangan                       119390 non-null  object \n",
      " 5   minggu_kedatangan                      119390 non-null  int64  \n",
      " 6   tanggal_kedatangan                     119390 non-null  int64  \n",
      " 7   menginap_di_weekend                    119390 non-null  int64  \n",
      " 8   menginap_in_week_nights                119390 non-null  int64  \n",
      " 9   dewasa                                 119390 non-null  int64  \n",
      " 10  anak_anak                              119386 non-null  float64\n",
      " 11  babies                                 119390 non-null  int64  \n",
      " 12  meal                                   119390 non-null  object \n",
      " 13  negara                                 118902 non-null  object \n",
      " 14  market_segment                         119390 non-null  object \n",
      " 15  tamu_berulang                          119390 non-null  int64  \n",
      " 16  pembatalan_sebelumnya                  119390 non-null  int64  \n",
      " 17  pemesanan_sebelumnya_tidak_dibatalkan  119390 non-null  int64  \n",
      " 18  tipe_ruang                             119390 non-null  object \n",
      " 19  tipe_kamar_ditentukan                  119390 non-null  object \n",
      " 20  perubahan_pemesanan                    119390 non-null  int64  \n",
      " 21  tipe_deposit                           119390 non-null  object \n",
      " 22  company                                6797 non-null    float64\n",
      " 23  days_in_waiting_list                   119390 non-null  int64  \n",
      " 24  tipe_customer                          119390 non-null  object \n",
      " 25  adr                                    119390 non-null  int64  \n",
      " 26  required_car_parking_spaces            69874 non-null   float64\n",
      " 27  status_reservasi                       69874 non-null   object \n",
      "dtypes: float64(3), int64(14), object(11)\n",
      "memory usage: 25.5+ MB\n"
     ]
    }
   ],
   "source": [
    "data.info()"
   ]
  },
  {
   "cell_type": "markdown",
   "metadata": {},
   "source": [
    "##### Untuk melihat data yang missing value"
   ]
  },
  {
   "cell_type": "code",
   "execution_count": 4,
   "metadata": {},
   "outputs": [
    {
     "data": {
      "text/plain": [
       "tipe_hotel                                    0\n",
       "pembatalan                                    0\n",
       "waktu_tunggu                                  0\n",
       "tahun_kedatangan                              0\n",
       "bulan_kedatangan                              0\n",
       "minggu_kedatangan                             0\n",
       "tanggal_kedatangan                            0\n",
       "menginap_di_weekend                           0\n",
       "menginap_in_week_nights                       0\n",
       "dewasa                                        0\n",
       "anak_anak                                     4\n",
       "babies                                        0\n",
       "meal                                          0\n",
       "negara                                      488\n",
       "market_segment                                0\n",
       "tamu_berulang                                 0\n",
       "pembatalan_sebelumnya                         0\n",
       "pemesanan_sebelumnya_tidak_dibatalkan         0\n",
       "tipe_ruang                                    0\n",
       "tipe_kamar_ditentukan                         0\n",
       "perubahan_pemesanan                           0\n",
       "tipe_deposit                                  0\n",
       "company                                  112593\n",
       "days_in_waiting_list                          0\n",
       "tipe_customer                                 0\n",
       "adr                                           0\n",
       "required_car_parking_spaces               49516\n",
       "status_reservasi                          49516\n",
       "dtype: int64"
      ]
     },
     "execution_count": 4,
     "metadata": {},
     "output_type": "execute_result"
    }
   ],
   "source": [
    "missing = pd.isnull(data).sum()\n",
    "missing"
   ]
  },
  {
   "cell_type": "markdown",
   "metadata": {},
   "source": [
    "##### Untuk melihat rasio data yang mising, jikaa lebih dari 60 %  data akan di hapus saja jika bukan data yang penting juga"
   ]
  },
  {
   "cell_type": "code",
   "execution_count": 5,
   "metadata": {},
   "outputs": [
    {
     "data": {
      "text/plain": [
       "tipe_hotel                               0.000000\n",
       "pembatalan                               0.000000\n",
       "waktu_tunggu                             0.000000\n",
       "tahun_kedatangan                         0.000000\n",
       "bulan_kedatangan                         0.000000\n",
       "minggu_kedatangan                        0.000000\n",
       "tanggal_kedatangan                       0.000000\n",
       "menginap_di_weekend                      0.000000\n",
       "menginap_in_week_nights                  0.000000\n",
       "dewasa                                   0.000000\n",
       "anak_anak                                0.000034\n",
       "babies                                   0.000000\n",
       "meal                                     0.000000\n",
       "negara                                   0.004087\n",
       "market_segment                           0.000000\n",
       "tamu_berulang                            0.000000\n",
       "pembatalan_sebelumnya                    0.000000\n",
       "pemesanan_sebelumnya_tidak_dibatalkan    0.000000\n",
       "tipe_ruang                               0.000000\n",
       "tipe_kamar_ditentukan                    0.000000\n",
       "perubahan_pemesanan                      0.000000\n",
       "tipe_deposit                             0.000000\n",
       "company                                  0.943069\n",
       "days_in_waiting_list                     0.000000\n",
       "tipe_customer                            0.000000\n",
       "adr                                      0.000000\n",
       "required_car_parking_spaces              0.414742\n",
       "status_reservasi                         0.414742\n",
       "dtype: float64"
      ]
     },
     "execution_count": 5,
     "metadata": {},
     "output_type": "execute_result"
    }
   ],
   "source": [
    "rasio = missing.div(len(data))\n",
    "rasio"
   ]
  },
  {
   "cell_type": "markdown",
   "metadata": {},
   "source": [
    "##### Drop data company karena melebihi 60 % data hilang,  bahkan 90 % "
   ]
  },
  {
   "cell_type": "code",
   "execution_count": 6,
   "metadata": {},
   "outputs": [],
   "source": [
    "data = data.drop(['company'],axis=1)"
   ]
  },
  {
   "cell_type": "code",
   "execution_count": 9,
   "metadata": {},
   "outputs": [
    {
     "data": {
      "text/plain": [
       "tipe_hotel                                   0\n",
       "pembatalan                                   0\n",
       "waktu_tunggu                                 0\n",
       "tahun_kedatangan                             0\n",
       "bulan_kedatangan                             0\n",
       "minggu_kedatangan                            0\n",
       "tanggal_kedatangan                           0\n",
       "menginap_di_weekend                          0\n",
       "menginap_in_week_nights                      0\n",
       "dewasa                                       0\n",
       "anak_anak                                    4\n",
       "babies                                       0\n",
       "meal                                         0\n",
       "negara                                     488\n",
       "market_segment                               0\n",
       "tamu_berulang                                0\n",
       "pembatalan_sebelumnya                        0\n",
       "pemesanan_sebelumnya_tidak_dibatalkan        0\n",
       "tipe_ruang                                   0\n",
       "tipe_kamar_ditentukan                        0\n",
       "perubahan_pemesanan                          0\n",
       "tipe_deposit                                 0\n",
       "days_in_waiting_list                         0\n",
       "tipe_customer                                0\n",
       "adr                                          0\n",
       "required_car_parking_spaces              49516\n",
       "status_reservasi                         49516\n",
       "dtype: int64"
      ]
     },
     "execution_count": 9,
     "metadata": {},
     "output_type": "execute_result"
    }
   ],
   "source": [
    "missing = pd.isnull(data).sum()\n",
    "missing"
   ]
  },
  {
   "cell_type": "markdown",
   "metadata": {},
   "source": [
    "##### melakukan rename kolom parking agar mudah dilihat"
   ]
  },
  {
   "cell_type": "code",
   "execution_count": 10,
   "metadata": {},
   "outputs": [],
   "source": [
    "data = data.rename(columns={'required_car_parking_spaces':'parking'})"
   ]
  },
  {
   "cell_type": "markdown",
   "metadata": {},
   "source": [
    "##### Handle missing value pada kolom parking dengan menggantinya dengan nilai rata-rata"
   ]
  },
  {
   "cell_type": "code",
   "execution_count": 95,
   "metadata": {},
   "outputs": [],
   "source": [
    "data['parking'].fillna(int(data['parking'].mean()), inplace=True)"
   ]
  },
  {
   "cell_type": "code",
   "execution_count": 12,
   "metadata": {},
   "outputs": [
    {
     "data": {
      "text/plain": [
       "tipe_hotel                                   0\n",
       "pembatalan                                   0\n",
       "waktu_tunggu                                 0\n",
       "tahun_kedatangan                             0\n",
       "bulan_kedatangan                             0\n",
       "minggu_kedatangan                            0\n",
       "tanggal_kedatangan                           0\n",
       "menginap_di_weekend                          0\n",
       "menginap_in_week_nights                      0\n",
       "dewasa                                       0\n",
       "anak_anak                                    4\n",
       "babies                                       0\n",
       "meal                                         0\n",
       "negara                                     488\n",
       "market_segment                               0\n",
       "tamu_berulang                                0\n",
       "pembatalan_sebelumnya                        0\n",
       "pemesanan_sebelumnya_tidak_dibatalkan        0\n",
       "tipe_ruang                                   0\n",
       "tipe_kamar_ditentukan                        0\n",
       "perubahan_pemesanan                          0\n",
       "tipe_deposit                                 0\n",
       "days_in_waiting_list                         0\n",
       "tipe_customer                                0\n",
       "adr                                          0\n",
       "parking                                      0\n",
       "status_reservasi                         49516\n",
       "dtype: int64"
      ]
     },
     "execution_count": 12,
     "metadata": {},
     "output_type": "execute_result"
    }
   ],
   "source": [
    "missing = pd.isnull(data).sum()\n",
    "missing"
   ]
  },
  {
   "cell_type": "markdown",
   "metadata": {},
   "source": [
    "##### Melakukan drop coolom status reservasi karena , status pembatalan sudah mewakili"
   ]
  },
  {
   "cell_type": "code",
   "execution_count": 13,
   "metadata": {},
   "outputs": [],
   "source": [
    "data = data.drop(['status_reservasi'],axis=1)"
   ]
  },
  {
   "cell_type": "code",
   "execution_count": 14,
   "metadata": {},
   "outputs": [
    {
     "data": {
      "text/plain": [
       "tipe_hotel                                 0\n",
       "pembatalan                                 0\n",
       "waktu_tunggu                               0\n",
       "tahun_kedatangan                           0\n",
       "bulan_kedatangan                           0\n",
       "minggu_kedatangan                          0\n",
       "tanggal_kedatangan                         0\n",
       "menginap_di_weekend                        0\n",
       "menginap_in_week_nights                    0\n",
       "dewasa                                     0\n",
       "anak_anak                                  4\n",
       "babies                                     0\n",
       "meal                                       0\n",
       "negara                                   488\n",
       "market_segment                             0\n",
       "tamu_berulang                              0\n",
       "pembatalan_sebelumnya                      0\n",
       "pemesanan_sebelumnya_tidak_dibatalkan      0\n",
       "tipe_ruang                                 0\n",
       "tipe_kamar_ditentukan                      0\n",
       "perubahan_pemesanan                        0\n",
       "tipe_deposit                               0\n",
       "days_in_waiting_list                       0\n",
       "tipe_customer                              0\n",
       "adr                                        0\n",
       "parking                                    0\n",
       "dtype: int64"
      ]
     },
     "execution_count": 14,
     "metadata": {},
     "output_type": "execute_result"
    }
   ],
   "source": [
    "missing = pd.isnull(data).sum()\n",
    "missing"
   ]
  },
  {
   "cell_type": "markdown",
   "metadata": {},
   "source": [
    "##### handle mising value pada negara dengan melakuakn sebuah kondisi dimana data yang kosong akan menjadi undefined"
   ]
  },
  {
   "cell_type": "code",
   "execution_count": 15,
   "metadata": {},
   "outputs": [],
   "source": [
    "negara_status =((data['negara'].isnull()) & (data['negara']!=0))"
   ]
  },
  {
   "cell_type": "code",
   "execution_count": 16,
   "metadata": {},
   "outputs": [],
   "source": [
    "data.loc[data['negara'].isnull(),'negara'] = 'Undefined'"
   ]
  },
  {
   "cell_type": "code",
   "execution_count": 17,
   "metadata": {},
   "outputs": [
    {
     "data": {
      "text/plain": [
       "tipe_hotel                               0\n",
       "pembatalan                               0\n",
       "waktu_tunggu                             0\n",
       "tahun_kedatangan                         0\n",
       "bulan_kedatangan                         0\n",
       "minggu_kedatangan                        0\n",
       "tanggal_kedatangan                       0\n",
       "menginap_di_weekend                      0\n",
       "menginap_in_week_nights                  0\n",
       "dewasa                                   0\n",
       "anak_anak                                4\n",
       "babies                                   0\n",
       "meal                                     0\n",
       "negara                                   0\n",
       "market_segment                           0\n",
       "tamu_berulang                            0\n",
       "pembatalan_sebelumnya                    0\n",
       "pemesanan_sebelumnya_tidak_dibatalkan    0\n",
       "tipe_ruang                               0\n",
       "tipe_kamar_ditentukan                    0\n",
       "perubahan_pemesanan                      0\n",
       "tipe_deposit                             0\n",
       "days_in_waiting_list                     0\n",
       "tipe_customer                            0\n",
       "adr                                      0\n",
       "parking                                  0\n",
       "dtype: int64"
      ]
     },
     "execution_count": 17,
     "metadata": {},
     "output_type": "execute_result"
    }
   ],
   "source": [
    "data.isnull().sum()"
   ]
  },
  {
   "cell_type": "markdown",
   "metadata": {},
   "source": [
    "##### Handle missing value kolom anak anak dengan rata rata"
   ]
  },
  {
   "cell_type": "code",
   "execution_count": 18,
   "metadata": {},
   "outputs": [],
   "source": [
    "data['anak_anak'].fillna(int(data['anak_anak'].mean()), inplace=True)"
   ]
  },
  {
   "cell_type": "code",
   "execution_count": 19,
   "metadata": {},
   "outputs": [
    {
     "name": "stdout",
     "output_type": "stream",
     "text": [
      "<class 'pandas.core.frame.DataFrame'>\n",
      "RangeIndex: 119390 entries, 0 to 119389\n",
      "Data columns (total 26 columns):\n",
      " #   Column                                 Non-Null Count   Dtype  \n",
      "---  ------                                 --------------   -----  \n",
      " 0   tipe_hotel                             119390 non-null  object \n",
      " 1   pembatalan                             119390 non-null  object \n",
      " 2   waktu_tunggu                           119390 non-null  int64  \n",
      " 3   tahun_kedatangan                       119390 non-null  int64  \n",
      " 4   bulan_kedatangan                       119390 non-null  object \n",
      " 5   minggu_kedatangan                      119390 non-null  int64  \n",
      " 6   tanggal_kedatangan                     119390 non-null  int64  \n",
      " 7   menginap_di_weekend                    119390 non-null  int64  \n",
      " 8   menginap_in_week_nights                119390 non-null  int64  \n",
      " 9   dewasa                                 119390 non-null  int64  \n",
      " 10  anak_anak                              119390 non-null  float64\n",
      " 11  babies                                 119390 non-null  int64  \n",
      " 12  meal                                   119390 non-null  object \n",
      " 13  negara                                 119390 non-null  object \n",
      " 14  market_segment                         119390 non-null  object \n",
      " 15  tamu_berulang                          119390 non-null  int64  \n",
      " 16  pembatalan_sebelumnya                  119390 non-null  int64  \n",
      " 17  pemesanan_sebelumnya_tidak_dibatalkan  119390 non-null  int64  \n",
      " 18  tipe_ruang                             119390 non-null  object \n",
      " 19  tipe_kamar_ditentukan                  119390 non-null  object \n",
      " 20  perubahan_pemesanan                    119390 non-null  int64  \n",
      " 21  tipe_deposit                           119390 non-null  object \n",
      " 22  days_in_waiting_list                   119390 non-null  int64  \n",
      " 23  tipe_customer                          119390 non-null  object \n",
      " 24  adr                                    119390 non-null  int64  \n",
      " 25  parking                                119390 non-null  float64\n",
      "dtypes: float64(2), int64(14), object(10)\n",
      "memory usage: 23.7+ MB\n"
     ]
    }
   ],
   "source": [
    "data.info()"
   ]
  },
  {
   "cell_type": "code",
   "execution_count": 20,
   "metadata": {},
   "outputs": [
    {
     "data": {
      "text/html": [
       "<div>\n",
       "<style scoped>\n",
       "    .dataframe tbody tr th:only-of-type {\n",
       "        vertical-align: middle;\n",
       "    }\n",
       "\n",
       "    .dataframe tbody tr th {\n",
       "        vertical-align: top;\n",
       "    }\n",
       "\n",
       "    .dataframe thead th {\n",
       "        text-align: right;\n",
       "    }\n",
       "</style>\n",
       "<table border=\"1\" class=\"dataframe\">\n",
       "  <thead>\n",
       "    <tr style=\"text-align: right;\">\n",
       "      <th></th>\n",
       "      <th>tipe_hotel</th>\n",
       "      <th>pembatalan</th>\n",
       "      <th>waktu_tunggu</th>\n",
       "      <th>tahun_kedatangan</th>\n",
       "      <th>bulan_kedatangan</th>\n",
       "      <th>minggu_kedatangan</th>\n",
       "      <th>tanggal_kedatangan</th>\n",
       "      <th>menginap_di_weekend</th>\n",
       "      <th>menginap_in_week_nights</th>\n",
       "      <th>dewasa</th>\n",
       "      <th>...</th>\n",
       "      <th>pembatalan_sebelumnya</th>\n",
       "      <th>pemesanan_sebelumnya_tidak_dibatalkan</th>\n",
       "      <th>tipe_ruang</th>\n",
       "      <th>tipe_kamar_ditentukan</th>\n",
       "      <th>perubahan_pemesanan</th>\n",
       "      <th>tipe_deposit</th>\n",
       "      <th>days_in_waiting_list</th>\n",
       "      <th>tipe_customer</th>\n",
       "      <th>adr</th>\n",
       "      <th>parking</th>\n",
       "    </tr>\n",
       "  </thead>\n",
       "  <tbody>\n",
       "    <tr>\n",
       "      <th>0</th>\n",
       "      <td>Resort Hotel</td>\n",
       "      <td>Tidak</td>\n",
       "      <td>342</td>\n",
       "      <td>2017</td>\n",
       "      <td>July</td>\n",
       "      <td>27</td>\n",
       "      <td>1</td>\n",
       "      <td>0</td>\n",
       "      <td>0</td>\n",
       "      <td>2</td>\n",
       "      <td>...</td>\n",
       "      <td>0</td>\n",
       "      <td>0</td>\n",
       "      <td>C</td>\n",
       "      <td>C</td>\n",
       "      <td>3</td>\n",
       "      <td>No Deposit</td>\n",
       "      <td>0</td>\n",
       "      <td>Transient</td>\n",
       "      <td>0</td>\n",
       "      <td>0.0</td>\n",
       "    </tr>\n",
       "    <tr>\n",
       "      <th>1</th>\n",
       "      <td>Resort Hotel</td>\n",
       "      <td>Tidak</td>\n",
       "      <td>737</td>\n",
       "      <td>2017</td>\n",
       "      <td>July</td>\n",
       "      <td>27</td>\n",
       "      <td>1</td>\n",
       "      <td>0</td>\n",
       "      <td>0</td>\n",
       "      <td>2</td>\n",
       "      <td>...</td>\n",
       "      <td>0</td>\n",
       "      <td>0</td>\n",
       "      <td>C</td>\n",
       "      <td>C</td>\n",
       "      <td>4</td>\n",
       "      <td>No Deposit</td>\n",
       "      <td>0</td>\n",
       "      <td>Transient</td>\n",
       "      <td>0</td>\n",
       "      <td>0.0</td>\n",
       "    </tr>\n",
       "    <tr>\n",
       "      <th>2</th>\n",
       "      <td>Resort Hotel</td>\n",
       "      <td>Tidak</td>\n",
       "      <td>7</td>\n",
       "      <td>2017</td>\n",
       "      <td>July</td>\n",
       "      <td>27</td>\n",
       "      <td>1</td>\n",
       "      <td>0</td>\n",
       "      <td>1</td>\n",
       "      <td>1</td>\n",
       "      <td>...</td>\n",
       "      <td>0</td>\n",
       "      <td>0</td>\n",
       "      <td>A</td>\n",
       "      <td>C</td>\n",
       "      <td>0</td>\n",
       "      <td>No Deposit</td>\n",
       "      <td>0</td>\n",
       "      <td>Transient</td>\n",
       "      <td>75</td>\n",
       "      <td>0.0</td>\n",
       "    </tr>\n",
       "    <tr>\n",
       "      <th>3</th>\n",
       "      <td>Resort Hotel</td>\n",
       "      <td>Tidak</td>\n",
       "      <td>13</td>\n",
       "      <td>2017</td>\n",
       "      <td>July</td>\n",
       "      <td>27</td>\n",
       "      <td>1</td>\n",
       "      <td>0</td>\n",
       "      <td>1</td>\n",
       "      <td>1</td>\n",
       "      <td>...</td>\n",
       "      <td>0</td>\n",
       "      <td>0</td>\n",
       "      <td>A</td>\n",
       "      <td>A</td>\n",
       "      <td>0</td>\n",
       "      <td>No Deposit</td>\n",
       "      <td>0</td>\n",
       "      <td>Transient</td>\n",
       "      <td>75</td>\n",
       "      <td>0.0</td>\n",
       "    </tr>\n",
       "    <tr>\n",
       "      <th>4</th>\n",
       "      <td>Resort Hotel</td>\n",
       "      <td>Tidak</td>\n",
       "      <td>14</td>\n",
       "      <td>2017</td>\n",
       "      <td>July</td>\n",
       "      <td>27</td>\n",
       "      <td>1</td>\n",
       "      <td>0</td>\n",
       "      <td>2</td>\n",
       "      <td>2</td>\n",
       "      <td>...</td>\n",
       "      <td>0</td>\n",
       "      <td>0</td>\n",
       "      <td>A</td>\n",
       "      <td>A</td>\n",
       "      <td>0</td>\n",
       "      <td>No Deposit</td>\n",
       "      <td>0</td>\n",
       "      <td>Transient</td>\n",
       "      <td>98</td>\n",
       "      <td>0.0</td>\n",
       "    </tr>\n",
       "  </tbody>\n",
       "</table>\n",
       "<p>5 rows × 26 columns</p>\n",
       "</div>"
      ],
      "text/plain": [
       "     tipe_hotel pembatalan  waktu_tunggu  tahun_kedatangan bulan_kedatangan  \\\n",
       "0  Resort Hotel      Tidak           342              2017             July   \n",
       "1  Resort Hotel      Tidak           737              2017             July   \n",
       "2  Resort Hotel      Tidak             7              2017             July   \n",
       "3  Resort Hotel      Tidak            13              2017             July   \n",
       "4  Resort Hotel      Tidak            14              2017             July   \n",
       "\n",
       "   minggu_kedatangan  tanggal_kedatangan  menginap_di_weekend  \\\n",
       "0                 27                   1                    0   \n",
       "1                 27                   1                    0   \n",
       "2                 27                   1                    0   \n",
       "3                 27                   1                    0   \n",
       "4                 27                   1                    0   \n",
       "\n",
       "   menginap_in_week_nights  dewasa  ...  pembatalan_sebelumnya  \\\n",
       "0                        0       2  ...                      0   \n",
       "1                        0       2  ...                      0   \n",
       "2                        1       1  ...                      0   \n",
       "3                        1       1  ...                      0   \n",
       "4                        2       2  ...                      0   \n",
       "\n",
       "   pemesanan_sebelumnya_tidak_dibatalkan tipe_ruang tipe_kamar_ditentukan  \\\n",
       "0                                      0          C                     C   \n",
       "1                                      0          C                     C   \n",
       "2                                      0          A                     C   \n",
       "3                                      0          A                     A   \n",
       "4                                      0          A                     A   \n",
       "\n",
       "  perubahan_pemesanan  tipe_deposit  days_in_waiting_list  tipe_customer adr  \\\n",
       "0                   3    No Deposit                     0      Transient   0   \n",
       "1                   4    No Deposit                     0      Transient   0   \n",
       "2                   0    No Deposit                     0      Transient  75   \n",
       "3                   0    No Deposit                     0      Transient  75   \n",
       "4                   0    No Deposit                     0      Transient  98   \n",
       "\n",
       "  parking  \n",
       "0     0.0  \n",
       "1     0.0  \n",
       "2     0.0  \n",
       "3     0.0  \n",
       "4     0.0  \n",
       "\n",
       "[5 rows x 26 columns]"
      ]
     },
     "execution_count": 20,
     "metadata": {},
     "output_type": "execute_result"
    }
   ],
   "source": [
    "data.head()"
   ]
  },
  {
   "cell_type": "markdown",
   "metadata": {},
   "source": [
    "##### Melakukan perubahan data dengan encoder pada variabel dependett ( pembatalan )"
   ]
  },
  {
   "cell_type": "code",
   "execution_count": 21,
   "metadata": {},
   "outputs": [
    {
     "data": {
      "text/html": [
       "<div>\n",
       "<style scoped>\n",
       "    .dataframe tbody tr th:only-of-type {\n",
       "        vertical-align: middle;\n",
       "    }\n",
       "\n",
       "    .dataframe tbody tr th {\n",
       "        vertical-align: top;\n",
       "    }\n",
       "\n",
       "    .dataframe thead th {\n",
       "        text-align: right;\n",
       "    }\n",
       "</style>\n",
       "<table border=\"1\" class=\"dataframe\">\n",
       "  <thead>\n",
       "    <tr style=\"text-align: right;\">\n",
       "      <th></th>\n",
       "      <th>pembatalan</th>\n",
       "    </tr>\n",
       "  </thead>\n",
       "  <tbody>\n",
       "    <tr>\n",
       "      <th>0</th>\n",
       "      <td>Tidak</td>\n",
       "    </tr>\n",
       "    <tr>\n",
       "      <th>1</th>\n",
       "      <td>Tidak</td>\n",
       "    </tr>\n",
       "    <tr>\n",
       "      <th>2</th>\n",
       "      <td>Tidak</td>\n",
       "    </tr>\n",
       "    <tr>\n",
       "      <th>3</th>\n",
       "      <td>Tidak</td>\n",
       "    </tr>\n",
       "    <tr>\n",
       "      <th>4</th>\n",
       "      <td>Tidak</td>\n",
       "    </tr>\n",
       "  </tbody>\n",
       "</table>\n",
       "</div>"
      ],
      "text/plain": [
       "  pembatalan\n",
       "0      Tidak\n",
       "1      Tidak\n",
       "2      Tidak\n",
       "3      Tidak\n",
       "4      Tidak"
      ]
     },
     "execution_count": 21,
     "metadata": {},
     "output_type": "execute_result"
    }
   ],
   "source": [
    "kategori = ['pembatalan']\n",
    "df_cat = data[kategori]\n",
    "df_cat.head()"
   ]
  },
  {
   "cell_type": "code",
   "execution_count": 22,
   "metadata": {},
   "outputs": [
    {
     "data": {
      "text/html": [
       "<div>\n",
       "<style scoped>\n",
       "    .dataframe tbody tr th:only-of-type {\n",
       "        vertical-align: middle;\n",
       "    }\n",
       "\n",
       "    .dataframe tbody tr th {\n",
       "        vertical-align: top;\n",
       "    }\n",
       "\n",
       "    .dataframe thead th {\n",
       "        text-align: right;\n",
       "    }\n",
       "</style>\n",
       "<table border=\"1\" class=\"dataframe\">\n",
       "  <thead>\n",
       "    <tr style=\"text-align: right;\">\n",
       "      <th></th>\n",
       "      <th>tipe_hotel</th>\n",
       "      <th>pembatalan</th>\n",
       "      <th>waktu_tunggu</th>\n",
       "      <th>tahun_kedatangan</th>\n",
       "      <th>bulan_kedatangan</th>\n",
       "      <th>minggu_kedatangan</th>\n",
       "      <th>tanggal_kedatangan</th>\n",
       "      <th>menginap_di_weekend</th>\n",
       "      <th>menginap_in_week_nights</th>\n",
       "      <th>dewasa</th>\n",
       "      <th>...</th>\n",
       "      <th>pembatalan_sebelumnya</th>\n",
       "      <th>pemesanan_sebelumnya_tidak_dibatalkan</th>\n",
       "      <th>tipe_ruang</th>\n",
       "      <th>tipe_kamar_ditentukan</th>\n",
       "      <th>perubahan_pemesanan</th>\n",
       "      <th>tipe_deposit</th>\n",
       "      <th>days_in_waiting_list</th>\n",
       "      <th>tipe_customer</th>\n",
       "      <th>adr</th>\n",
       "      <th>parking</th>\n",
       "    </tr>\n",
       "  </thead>\n",
       "  <tbody>\n",
       "    <tr>\n",
       "      <th>0</th>\n",
       "      <td>Resort Hotel</td>\n",
       "      <td>0</td>\n",
       "      <td>342</td>\n",
       "      <td>2017</td>\n",
       "      <td>July</td>\n",
       "      <td>27</td>\n",
       "      <td>1</td>\n",
       "      <td>0</td>\n",
       "      <td>0</td>\n",
       "      <td>2</td>\n",
       "      <td>...</td>\n",
       "      <td>0</td>\n",
       "      <td>0</td>\n",
       "      <td>C</td>\n",
       "      <td>C</td>\n",
       "      <td>3</td>\n",
       "      <td>No Deposit</td>\n",
       "      <td>0</td>\n",
       "      <td>Transient</td>\n",
       "      <td>0</td>\n",
       "      <td>0.0</td>\n",
       "    </tr>\n",
       "    <tr>\n",
       "      <th>1</th>\n",
       "      <td>Resort Hotel</td>\n",
       "      <td>0</td>\n",
       "      <td>737</td>\n",
       "      <td>2017</td>\n",
       "      <td>July</td>\n",
       "      <td>27</td>\n",
       "      <td>1</td>\n",
       "      <td>0</td>\n",
       "      <td>0</td>\n",
       "      <td>2</td>\n",
       "      <td>...</td>\n",
       "      <td>0</td>\n",
       "      <td>0</td>\n",
       "      <td>C</td>\n",
       "      <td>C</td>\n",
       "      <td>4</td>\n",
       "      <td>No Deposit</td>\n",
       "      <td>0</td>\n",
       "      <td>Transient</td>\n",
       "      <td>0</td>\n",
       "      <td>0.0</td>\n",
       "    </tr>\n",
       "    <tr>\n",
       "      <th>2</th>\n",
       "      <td>Resort Hotel</td>\n",
       "      <td>0</td>\n",
       "      <td>7</td>\n",
       "      <td>2017</td>\n",
       "      <td>July</td>\n",
       "      <td>27</td>\n",
       "      <td>1</td>\n",
       "      <td>0</td>\n",
       "      <td>1</td>\n",
       "      <td>1</td>\n",
       "      <td>...</td>\n",
       "      <td>0</td>\n",
       "      <td>0</td>\n",
       "      <td>A</td>\n",
       "      <td>C</td>\n",
       "      <td>0</td>\n",
       "      <td>No Deposit</td>\n",
       "      <td>0</td>\n",
       "      <td>Transient</td>\n",
       "      <td>75</td>\n",
       "      <td>0.0</td>\n",
       "    </tr>\n",
       "    <tr>\n",
       "      <th>3</th>\n",
       "      <td>Resort Hotel</td>\n",
       "      <td>0</td>\n",
       "      <td>13</td>\n",
       "      <td>2017</td>\n",
       "      <td>July</td>\n",
       "      <td>27</td>\n",
       "      <td>1</td>\n",
       "      <td>0</td>\n",
       "      <td>1</td>\n",
       "      <td>1</td>\n",
       "      <td>...</td>\n",
       "      <td>0</td>\n",
       "      <td>0</td>\n",
       "      <td>A</td>\n",
       "      <td>A</td>\n",
       "      <td>0</td>\n",
       "      <td>No Deposit</td>\n",
       "      <td>0</td>\n",
       "      <td>Transient</td>\n",
       "      <td>75</td>\n",
       "      <td>0.0</td>\n",
       "    </tr>\n",
       "    <tr>\n",
       "      <th>4</th>\n",
       "      <td>Resort Hotel</td>\n",
       "      <td>0</td>\n",
       "      <td>14</td>\n",
       "      <td>2017</td>\n",
       "      <td>July</td>\n",
       "      <td>27</td>\n",
       "      <td>1</td>\n",
       "      <td>0</td>\n",
       "      <td>2</td>\n",
       "      <td>2</td>\n",
       "      <td>...</td>\n",
       "      <td>0</td>\n",
       "      <td>0</td>\n",
       "      <td>A</td>\n",
       "      <td>A</td>\n",
       "      <td>0</td>\n",
       "      <td>No Deposit</td>\n",
       "      <td>0</td>\n",
       "      <td>Transient</td>\n",
       "      <td>98</td>\n",
       "      <td>0.0</td>\n",
       "    </tr>\n",
       "  </tbody>\n",
       "</table>\n",
       "<p>5 rows × 26 columns</p>\n",
       "</div>"
      ],
      "text/plain": [
       "     tipe_hotel  pembatalan  waktu_tunggu  tahun_kedatangan bulan_kedatangan  \\\n",
       "0  Resort Hotel           0           342              2017             July   \n",
       "1  Resort Hotel           0           737              2017             July   \n",
       "2  Resort Hotel           0             7              2017             July   \n",
       "3  Resort Hotel           0            13              2017             July   \n",
       "4  Resort Hotel           0            14              2017             July   \n",
       "\n",
       "   minggu_kedatangan  tanggal_kedatangan  menginap_di_weekend  \\\n",
       "0                 27                   1                    0   \n",
       "1                 27                   1                    0   \n",
       "2                 27                   1                    0   \n",
       "3                 27                   1                    0   \n",
       "4                 27                   1                    0   \n",
       "\n",
       "   menginap_in_week_nights  dewasa  ...  pembatalan_sebelumnya  \\\n",
       "0                        0       2  ...                      0   \n",
       "1                        0       2  ...                      0   \n",
       "2                        1       1  ...                      0   \n",
       "3                        1       1  ...                      0   \n",
       "4                        2       2  ...                      0   \n",
       "\n",
       "   pemesanan_sebelumnya_tidak_dibatalkan tipe_ruang tipe_kamar_ditentukan  \\\n",
       "0                                      0          C                     C   \n",
       "1                                      0          C                     C   \n",
       "2                                      0          A                     C   \n",
       "3                                      0          A                     A   \n",
       "4                                      0          A                     A   \n",
       "\n",
       "  perubahan_pemesanan  tipe_deposit  days_in_waiting_list  tipe_customer adr  \\\n",
       "0                   3    No Deposit                     0      Transient   0   \n",
       "1                   4    No Deposit                     0      Transient   0   \n",
       "2                   0    No Deposit                     0      Transient  75   \n",
       "3                   0    No Deposit                     0      Transient  75   \n",
       "4                   0    No Deposit                     0      Transient  98   \n",
       "\n",
       "  parking  \n",
       "0     0.0  \n",
       "1     0.0  \n",
       "2     0.0  \n",
       "3     0.0  \n",
       "4     0.0  \n",
       "\n",
       "[5 rows x 26 columns]"
      ]
     },
     "execution_count": 22,
     "metadata": {},
     "output_type": "execute_result"
    }
   ],
   "source": [
    "encoded_data = LabelEncoder()\n",
    "\n",
    "for feature in kategori:\n",
    "        if feature in data.columns.values:\n",
    "            data[feature] = encoded_data.fit_transform(data[feature])\n",
    "\n",
    "data.head()"
   ]
  },
  {
   "cell_type": "code",
   "execution_count": 23,
   "metadata": {},
   "outputs": [
    {
     "data": {
      "text/plain": [
       "0         PRT\n",
       "1         PRT\n",
       "2         GBR\n",
       "3         GBR\n",
       "4         GBR\n",
       "         ... \n",
       "119385    BEL\n",
       "119386    FRA\n",
       "119387    DEU\n",
       "119388    GBR\n",
       "119389    DEU\n",
       "Name: negara, Length: 119390, dtype: object"
      ]
     },
     "execution_count": 23,
     "metadata": {},
     "output_type": "execute_result"
    }
   ],
   "source": [
    "data['negara']"
   ]
  },
  {
   "cell_type": "markdown",
   "metadata": {},
   "source": [
    "##### Melakukan proses encoder untuk kolom negara agar mudah untuk melakukan proses eda "
   ]
  },
  {
   "cell_type": "code",
   "execution_count": 24,
   "metadata": {},
   "outputs": [
    {
     "name": "stdout",
     "output_type": "stream",
     "text": [
      "{'negara': {'ABW': 1, 'AGO': 2, 'AIA': 3, 'ALB': 4, 'AND': 5, 'ARE': 6, 'ARG': 7, 'ARM': 8, 'ASM': 9, 'ATA': 10, 'ATF': 11, 'AUS': 12, 'AUT': 13, 'AZE': 14, 'BDI': 15, 'BEL': 16, 'BEN': 17, 'BFA': 18, 'BGD': 19, 'BGR': 20, 'BHR': 21, 'BHS': 22, 'BIH': 23, 'BLR': 24, 'BOL': 25, 'BRA': 26, 'BRB': 27, 'BWA': 28, 'CAF': 29, 'CHE': 30, 'CHL': 31, 'CHN': 32, 'CIV': 33, 'CMR': 34, 'CN': 35, 'COL': 36, 'COM': 37, 'CPV': 38, 'CRI': 39, 'CUB': 40, 'CYM': 41, 'CYP': 42, 'CZE': 43, 'DEU': 44, 'DJI': 45, 'DMA': 46, 'DNK': 47, 'DOM': 48, 'DZA': 49, 'ECU': 50, 'EGY': 51, 'ESP': 52, 'EST': 53, 'ETH': 54, 'FIN': 55, 'FJI': 56, 'FRA': 57, 'FRO': 58, 'GAB': 59, 'GBR': 60, 'GEO': 61, 'GGY': 62, 'GHA': 63, 'GIB': 64, 'GLP': 65, 'GNB': 66, 'GRC': 67, 'GTM': 68, 'GUY': 69, 'HKG': 70, 'HND': 71, 'HRV': 72, 'HUN': 73, 'IDN': 74, 'IMN': 75, 'IND': 76, 'IRL': 77, 'IRN': 78, 'IRQ': 79, 'ISL': 80, 'ISR': 81, 'ITA': 82, 'JAM': 83, 'JEY': 84, 'JOR': 85, 'JPN': 86, 'KAZ': 87, 'KEN': 88, 'KHM': 89, 'KIR': 90, 'KNA': 91, 'KOR': 92, 'KWT': 93, 'LAO': 94, 'LBN': 95, 'LBY': 96, 'LCA': 97, 'LIE': 98, 'LKA': 99, 'LTU': 100, 'LUX': 101, 'LVA': 102, 'MAC': 103, 'MAR': 104, 'MCO': 105, 'MDG': 106, 'MDV': 107, 'MEX': 108, 'MKD': 109, 'MLI': 110, 'MLT': 111, 'MMR': 112, 'MNE': 113, 'MOZ': 114, 'MRT': 115, 'MUS': 116, 'MWI': 117, 'MYS': 118, 'MYT': 119, 'NAM': 120, 'NCL': 121, 'NGA': 122, 'NIC': 123, 'NLD': 124, 'NOR': 125, 'NPL': 126, 'NZL': 127, 'OMN': 128, 'PAK': 129, 'PAN': 130, 'PER': 131, 'PHL': 132, 'PLW': 133, 'POL': 134, 'PRI': 135, 'PRT': 136, 'PRY': 137, 'PYF': 138, 'QAT': 139, 'ROU': 140, 'RUS': 141, 'RWA': 142, 'SAU': 143, 'SDN': 144, 'SEN': 145, 'SGP': 146, 'SLE': 147, 'SLV': 148, 'SMR': 149, 'SRB': 150, 'STP': 151, 'SUR': 152, 'SVK': 153, 'SVN': 154, 'SWE': 155, 'SYC': 156, 'SYR': 157, 'TGO': 158, 'THA': 159, 'TJK': 160, 'TMP': 161, 'TUN': 162, 'TUR': 163, 'TWN': 164, 'TZA': 165, 'UGA': 166, 'UKR': 167, 'UMI': 168, 'URY': 169, 'USA': 170, 'UZB': 171, 'Undefined': 172, 'VEN': 173, 'VGB': 174, 'VNM': 175, 'ZAF': 176, 'ZMB': 177, 'ZWE': 178}}\n"
     ]
    }
   ],
   "source": [
    "labels = data['negara'].astype('category').cat.categories.tolist()\n",
    "replace_map_comp = {'negara' : {k: v for k,v in zip(labels,list(range(1,len(labels)+1)))}}\n",
    "\n",
    "print(replace_map_comp)"
   ]
  },
  {
   "cell_type": "markdown",
   "metadata": {
    "id": "1LTjPkJzJ_lh"
   },
   "source": [
    "#### EDA"
   ]
  },
  {
   "cell_type": "markdown",
   "metadata": {},
   "source": [
    "##### PEMBATALAN , melihat perbandingan customer yang melakukan pembatalan dengan yang tidak"
   ]
  },
  {
   "cell_type": "code",
   "execution_count": 25,
   "metadata": {
    "id": "3An3ZZ9qJ_lh"
   },
   "outputs": [
    {
     "data": {
      "image/png": "[encoded data removed]",
      "text/plain": [
       "<Figure size 432x288 with 1 Axes>"
      ]
     },
     "metadata": {},
     "output_type": "display_data"
    }
   ],
   "source": [
    "data['pembatalan'].value_counts().plot.pie(autopct='%1.1f%%',shadow=True)\n",
    "plt.show()"
   ]
  },
  {
   "cell_type": "markdown",
   "metadata": {},
   "source": [
    "##### Untuk melihat jumlah data, rata-rata, standart deviasi, kuartal 1 & 2 & 3 , nilai minimum dan maksimum"
   ]
  },
  {
   "cell_type": "code",
   "execution_count": 26,
   "metadata": {},
   "outputs": [
    {
     "data": {
      "text/html": [
       "<div>\n",
       "<style scoped>\n",
       "    .dataframe tbody tr th:only-of-type {\n",
       "        vertical-align: middle;\n",
       "    }\n",
       "\n",
       "    .dataframe tbody tr th {\n",
       "        vertical-align: top;\n",
       "    }\n",
       "\n",
       "    .dataframe thead th {\n",
       "        text-align: right;\n",
       "    }\n",
       "</style>\n",
       "<table border=\"1\" class=\"dataframe\">\n",
       "  <thead>\n",
       "    <tr style=\"text-align: right;\">\n",
       "      <th></th>\n",
       "      <th>pembatalan</th>\n",
       "      <th>waktu_tunggu</th>\n",
       "      <th>tahun_kedatangan</th>\n",
       "      <th>minggu_kedatangan</th>\n",
       "      <th>tanggal_kedatangan</th>\n",
       "      <th>menginap_di_weekend</th>\n",
       "      <th>menginap_in_week_nights</th>\n",
       "      <th>dewasa</th>\n",
       "      <th>anak_anak</th>\n",
       "      <th>babies</th>\n",
       "      <th>tamu_berulang</th>\n",
       "      <th>pembatalan_sebelumnya</th>\n",
       "      <th>pemesanan_sebelumnya_tidak_dibatalkan</th>\n",
       "      <th>perubahan_pemesanan</th>\n",
       "      <th>days_in_waiting_list</th>\n",
       "      <th>adr</th>\n",
       "      <th>parking</th>\n",
       "    </tr>\n",
       "  </thead>\n",
       "  <tbody>\n",
       "    <tr>\n",
       "      <th>count</th>\n",
       "      <td>119390.000000</td>\n",
       "      <td>119390.000000</td>\n",
       "      <td>119390.000000</td>\n",
       "      <td>119390.000000</td>\n",
       "      <td>119390.000000</td>\n",
       "      <td>119390.000000</td>\n",
       "      <td>119390.000000</td>\n",
       "      <td>119390.000000</td>\n",
       "      <td>119390.000000</td>\n",
       "      <td>119390.000000</td>\n",
       "      <td>119390.000000</td>\n",
       "      <td>119390.000000</td>\n",
       "      <td>119390.000000</td>\n",
       "      <td>119390.000000</td>\n",
       "      <td>119390.000000</td>\n",
       "      <td>119390.000000</td>\n",
       "      <td>119390.000000</td>\n",
       "    </tr>\n",
       "    <tr>\n",
       "      <th>mean</th>\n",
       "      <td>0.370416</td>\n",
       "      <td>104.011416</td>\n",
       "      <td>2018.156554</td>\n",
       "      <td>27.165173</td>\n",
       "      <td>15.798241</td>\n",
       "      <td>0.927599</td>\n",
       "      <td>2.500302</td>\n",
       "      <td>1.856403</td>\n",
       "      <td>0.103886</td>\n",
       "      <td>0.007949</td>\n",
       "      <td>0.031912</td>\n",
       "      <td>0.087118</td>\n",
       "      <td>0.137097</td>\n",
       "      <td>0.221124</td>\n",
       "      <td>2.321149</td>\n",
       "      <td>101.626761</td>\n",
       "      <td>0.038672</td>\n",
       "    </tr>\n",
       "    <tr>\n",
       "      <th>std</th>\n",
       "      <td>0.482918</td>\n",
       "      <td>106.863097</td>\n",
       "      <td>0.707476</td>\n",
       "      <td>13.605138</td>\n",
       "      <td>8.780829</td>\n",
       "      <td>0.998613</td>\n",
       "      <td>1.908286</td>\n",
       "      <td>0.579261</td>\n",
       "      <td>0.398555</td>\n",
       "      <td>0.097436</td>\n",
       "      <td>0.175767</td>\n",
       "      <td>0.844336</td>\n",
       "      <td>1.497437</td>\n",
       "      <td>0.652306</td>\n",
       "      <td>17.594721</td>\n",
       "      <td>50.523114</td>\n",
       "      <td>0.196342</td>\n",
       "    </tr>\n",
       "    <tr>\n",
       "      <th>min</th>\n",
       "      <td>0.000000</td>\n",
       "      <td>0.000000</td>\n",
       "      <td>2017.000000</td>\n",
       "      <td>1.000000</td>\n",
       "      <td>1.000000</td>\n",
       "      <td>0.000000</td>\n",
       "      <td>0.000000</td>\n",
       "      <td>0.000000</td>\n",
       "      <td>0.000000</td>\n",
       "      <td>0.000000</td>\n",
       "      <td>0.000000</td>\n",
       "      <td>0.000000</td>\n",
       "      <td>0.000000</td>\n",
       "      <td>0.000000</td>\n",
       "      <td>0.000000</td>\n",
       "      <td>-6.000000</td>\n",
       "      <td>0.000000</td>\n",
       "    </tr>\n",
       "    <tr>\n",
       "      <th>25%</th>\n",
       "      <td>0.000000</td>\n",
       "      <td>18.000000</td>\n",
       "      <td>2018.000000</td>\n",
       "      <td>16.000000</td>\n",
       "      <td>8.000000</td>\n",
       "      <td>0.000000</td>\n",
       "      <td>1.000000</td>\n",
       "      <td>2.000000</td>\n",
       "      <td>0.000000</td>\n",
       "      <td>0.000000</td>\n",
       "      <td>0.000000</td>\n",
       "      <td>0.000000</td>\n",
       "      <td>0.000000</td>\n",
       "      <td>0.000000</td>\n",
       "      <td>0.000000</td>\n",
       "      <td>69.000000</td>\n",
       "      <td>0.000000</td>\n",
       "    </tr>\n",
       "    <tr>\n",
       "      <th>50%</th>\n",
       "      <td>0.000000</td>\n",
       "      <td>69.000000</td>\n",
       "      <td>2018.000000</td>\n",
       "      <td>28.000000</td>\n",
       "      <td>16.000000</td>\n",
       "      <td>1.000000</td>\n",
       "      <td>2.000000</td>\n",
       "      <td>2.000000</td>\n",
       "      <td>0.000000</td>\n",
       "      <td>0.000000</td>\n",
       "      <td>0.000000</td>\n",
       "      <td>0.000000</td>\n",
       "      <td>0.000000</td>\n",
       "      <td>0.000000</td>\n",
       "      <td>0.000000</td>\n",
       "      <td>94.000000</td>\n",
       "      <td>0.000000</td>\n",
       "    </tr>\n",
       "    <tr>\n",
       "      <th>75%</th>\n",
       "      <td>1.000000</td>\n",
       "      <td>160.000000</td>\n",
       "      <td>2019.000000</td>\n",
       "      <td>38.000000</td>\n",
       "      <td>23.000000</td>\n",
       "      <td>2.000000</td>\n",
       "      <td>3.000000</td>\n",
       "      <td>2.000000</td>\n",
       "      <td>0.000000</td>\n",
       "      <td>0.000000</td>\n",
       "      <td>0.000000</td>\n",
       "      <td>0.000000</td>\n",
       "      <td>0.000000</td>\n",
       "      <td>0.000000</td>\n",
       "      <td>0.000000</td>\n",
       "      <td>126.000000</td>\n",
       "      <td>0.000000</td>\n",
       "    </tr>\n",
       "    <tr>\n",
       "      <th>max</th>\n",
       "      <td>1.000000</td>\n",
       "      <td>737.000000</td>\n",
       "      <td>2019.000000</td>\n",
       "      <td>53.000000</td>\n",
       "      <td>31.000000</td>\n",
       "      <td>19.000000</td>\n",
       "      <td>50.000000</td>\n",
       "      <td>55.000000</td>\n",
       "      <td>10.000000</td>\n",
       "      <td>10.000000</td>\n",
       "      <td>1.000000</td>\n",
       "      <td>26.000000</td>\n",
       "      <td>72.000000</td>\n",
       "      <td>21.000000</td>\n",
       "      <td>391.000000</td>\n",
       "      <td>5400.000000</td>\n",
       "      <td>8.000000</td>\n",
       "    </tr>\n",
       "  </tbody>\n",
       "</table>\n",
       "</div>"
      ],
      "text/plain": [
       "          pembatalan   waktu_tunggu  tahun_kedatangan  minggu_kedatangan  \\\n",
       "count  119390.000000  119390.000000     119390.000000      119390.000000   \n",
       "mean        0.370416     104.011416       2018.156554          27.165173   \n",
       "std         0.482918     106.863097          0.707476          13.605138   \n",
       "min         0.000000       0.000000       2017.000000           1.000000   \n",
       "25%         0.000000      18.000000       2018.000000          16.000000   \n",
       "50%         0.000000      69.000000       2018.000000          28.000000   \n",
       "75%         1.000000     160.000000       2019.000000          38.000000   \n",
       "max         1.000000     737.000000       2019.000000          53.000000   \n",
       "\n",
       "       tanggal_kedatangan  menginap_di_weekend  menginap_in_week_nights  \\\n",
       "count       119390.000000        119390.000000            119390.000000   \n",
       "mean            15.798241             0.927599                 2.500302   \n",
       "std              8.780829             0.998613                 1.908286   \n",
       "min              1.000000             0.000000                 0.000000   \n",
       "25%              8.000000             0.000000                 1.000000   \n",
       "50%             16.000000             1.000000                 2.000000   \n",
       "75%             23.000000             2.000000                 3.000000   \n",
       "max             31.000000            19.000000                50.000000   \n",
       "\n",
       "              dewasa      anak_anak         babies  tamu_berulang  \\\n",
       "count  119390.000000  119390.000000  119390.000000  119390.000000   \n",
       "mean        1.856403       0.103886       0.007949       0.031912   \n",
       "std         0.579261       0.398555       0.097436       0.175767   \n",
       "min         0.000000       0.000000       0.000000       0.000000   \n",
       "25%         2.000000       0.000000       0.000000       0.000000   \n",
       "50%         2.000000       0.000000       0.000000       0.000000   \n",
       "75%         2.000000       0.000000       0.000000       0.000000   \n",
       "max        55.000000      10.000000      10.000000       1.000000   \n",
       "\n",
       "       pembatalan_sebelumnya  pemesanan_sebelumnya_tidak_dibatalkan  \\\n",
       "count          119390.000000                          119390.000000   \n",
       "mean                0.087118                               0.137097   \n",
       "std                 0.844336                               1.497437   \n",
       "min                 0.000000                               0.000000   \n",
       "25%                 0.000000                               0.000000   \n",
       "50%                 0.000000                               0.000000   \n",
       "75%                 0.000000                               0.000000   \n",
       "max                26.000000                              72.000000   \n",
       "\n",
       "       perubahan_pemesanan  days_in_waiting_list            adr        parking  \n",
       "count        119390.000000         119390.000000  119390.000000  119390.000000  \n",
       "mean              0.221124              2.321149     101.626761       0.038672  \n",
       "std               0.652306             17.594721      50.523114       0.196342  \n",
       "min               0.000000              0.000000      -6.000000       0.000000  \n",
       "25%               0.000000              0.000000      69.000000       0.000000  \n",
       "50%               0.000000              0.000000      94.000000       0.000000  \n",
       "75%               0.000000              0.000000     126.000000       0.000000  \n",
       "max              21.000000            391.000000    5400.000000       8.000000  "
      ]
     },
     "execution_count": 26,
     "metadata": {},
     "output_type": "execute_result"
    }
   ],
   "source": [
    "data.describe()"
   ]
  },
  {
   "cell_type": "markdown",
   "metadata": {},
   "source": [
    "##### Untuk menganalysis customer yang melakukan pembatalan berdasarkan tipe deposit yang ada"
   ]
  },
  {
   "cell_type": "code",
   "execution_count": 27,
   "metadata": {},
   "outputs": [
    {
     "data": {
      "image/png": "[encoded data removed]",
      "text/plain": [
       "<Figure size 432x288 with 1 Axes>"
      ]
     },
     "metadata": {
      "needs_background": "light"
     },
     "output_type": "display_data"
    }
   ],
   "source": [
    "tipe_deposit = pd.crosstab(data['tipe_deposit'], (data['pembatalan']==0))\n",
    "\n",
    "stacked = tipe_deposit.stack().reset_index().rename(columns={0:'value'})\n",
    "sns.barplot(x=stacked.tipe_deposit, y=stacked.value, hue=stacked.pembatalan)\n",
    "plt.show()"
   ]
  },
  {
   "cell_type": "markdown",
   "metadata": {},
   "source": [
    "##### Untuk menganalysis customer yang melakukan pembatalan berdasarkan tipe customer yang ada"
   ]
  },
  {
   "cell_type": "code",
   "execution_count": 28,
   "metadata": {},
   "outputs": [
    {
     "data": {
      "image/png": "[encoded data removed]",
      "text/plain": [
       "<Figure size 432x288 with 1 Axes>"
      ]
     },
     "metadata": {
      "needs_background": "light"
     },
     "output_type": "display_data"
    }
   ],
   "source": [
    "market = pd.crosstab(data['tipe_customer'], (data['pembatalan']==0))\n",
    "\n",
    "stacked = market.stack().reset_index().rename(columns={0:'value'})\n",
    "sns.barplot(x=stacked.tipe_customer, y=stacked.value, hue=stacked.pembatalan)\n",
    "plt.show()"
   ]
  },
  {
   "cell_type": "markdown",
   "metadata": {},
   "source": [
    "##### Untuk menganalysis customer yang melakukan pembatalan berdasarkan market_segment yang ada"
   ]
  },
  {
   "cell_type": "code",
   "execution_count": 29,
   "metadata": {},
   "outputs": [
    {
     "data": {
      "image/png": "[encoded data removed]",
      "text/plain": [
       "<Figure size 432x288 with 1 Axes>"
      ]
     },
     "metadata": {
      "needs_background": "light"
     },
     "output_type": "display_data"
    }
   ],
   "source": [
    "market = pd.crosstab(data['market_segment'], (data['pembatalan']==0))\n",
    "\n",
    "stacked = market.stack().reset_index().rename(columns={0:'value'})\n",
    "sns.barplot(x=stacked.market_segment, y=stacked.value, hue=stacked.pembatalan)\n",
    "plt.show()"
   ]
  },
  {
   "cell_type": "markdown",
   "metadata": {},
   "source": [
    "##### Untuk menganalysis customer yang melakukan pembatalan berdasarkan tipe hotel yang ada"
   ]
  },
  {
   "cell_type": "code",
   "execution_count": 30,
   "metadata": {},
   "outputs": [
    {
     "data": {
      "image/png": "[encoded data removed]",
      "text/plain": [
       "<Figure size 432x288 with 1 Axes>"
      ]
     },
     "metadata": {
      "needs_background": "light"
     },
     "output_type": "display_data"
    }
   ],
   "source": [
    "hotel = pd.crosstab(data['tipe_hotel'], (data['pembatalan']==0))\n",
    "\n",
    "stacked = hotel.stack().reset_index().rename(columns={0:'value'})\n",
    "sns.barplot(x=stacked.tipe_hotel, y=stacked.value, hue=stacked.pembatalan)\n",
    "plt.show()"
   ]
  },
  {
   "cell_type": "markdown",
   "metadata": {},
   "source": [
    "##### Untuk menganalysis customer yang melakukan pembatalan berdasarkan kebutuhan parking yang ada"
   ]
  },
  {
   "cell_type": "code",
   "execution_count": 31,
   "metadata": {},
   "outputs": [
    {
     "data": {
      "image/png": "[encoded data removed]",
      "text/plain": [
       "<Figure size 432x288 with 1 Axes>"
      ]
     },
     "metadata": {
      "needs_background": "light"
     },
     "output_type": "display_data"
    }
   ],
   "source": [
    "parking = pd.crosstab(data['parking'], (data['pembatalan']==0))\n",
    "\n",
    "stacked = parking.stack().reset_index().rename(columns={0:'value'})\n",
    "sns.barplot(x=stacked.parking, y=stacked.value, hue=stacked.pembatalan)\n",
    "plt.show()"
   ]
  },
  {
   "cell_type": "markdown",
   "metadata": {},
   "source": [
    "##### Untuk menganalysis customer yang melakukan pembatalan berdasarkan tahun yang ada"
   ]
  },
  {
   "cell_type": "code",
   "execution_count": 32,
   "metadata": {},
   "outputs": [
    {
     "data": {
      "image/png": "[encoded data removed]",
      "text/plain": [
       "<Figure size 432x288 with 1 Axes>"
      ]
     },
     "metadata": {
      "needs_background": "light"
     },
     "output_type": "display_data"
    }
   ],
   "source": [
    "weekend= pd.crosstab(data['tahun_kedatangan'], (data['pembatalan']==0))\n",
    "\n",
    "stacked = weekend.stack().reset_index().rename(columns={0:'value'})\n",
    "sns.barplot(x=stacked.tahun_kedatangan, y=stacked.value, hue=stacked.pembatalan)\n",
    "plt.show()"
   ]
  },
  {
   "cell_type": "markdown",
   "metadata": {},
   "source": [
    "##### Untuk menganalysis customer yang melakukan pembatalan berdasarkan tipe ruang yang ada"
   ]
  },
  {
   "cell_type": "code",
   "execution_count": 33,
   "metadata": {},
   "outputs": [
    {
     "data": {
      "image/png": "[encoded data removed]",
      "text/plain": [
       "<Figure size 432x288 with 1 Axes>"
      ]
     },
     "metadata": {
      "needs_background": "light"
     },
     "output_type": "display_data"
    }
   ],
   "source": [
    "weekend= pd.crosstab(data['tipe_ruang'], (data['pembatalan']==0))\n",
    "\n",
    "stacked = weekend.stack().reset_index().rename(columns={0:'value'})\n",
    "sns.barplot(x=stacked.tipe_ruang, y=stacked.value, hue=stacked.pembatalan)\n",
    "plt.show()"
   ]
  },
  {
   "cell_type": "markdown",
   "metadata": {},
   "source": [
    "##### Untuk menganalysis customer yang melakukan pembatalan berdasarkan market segment yang ada"
   ]
  },
  {
   "cell_type": "code",
   "execution_count": 34,
   "metadata": {},
   "outputs": [
    {
     "data": {
      "image/png": "[encoded data removed]",
      "text/plain": [
       "<Figure size 432x288 with 1 Axes>"
      ]
     },
     "metadata": {
      "needs_background": "light"
     },
     "output_type": "display_data"
    }
   ],
   "source": [
    "weekend= pd.crosstab(data['market_segment'], (data['pembatalan']==0))\n",
    "\n",
    "stacked = weekend.stack().reset_index().rename(columns={0:'value'})\n",
    "sns.barplot(x=stacked.market_segment, y=stacked.value, hue=stacked.pembatalan)\n",
    "plt.show()"
   ]
  },
  {
   "cell_type": "markdown",
   "metadata": {},
   "source": [
    "##### Untuk menganalysis customer yang melakukan pembatalan berdasarkan dewasa yang ada"
   ]
  },
  {
   "cell_type": "code",
   "execution_count": 35,
   "metadata": {},
   "outputs": [
    {
     "data": {
      "image/png": "[encoded data removed]",
      "text/plain": [
       "<Figure size 432x288 with 1 Axes>"
      ]
     },
     "metadata": {
      "needs_background": "light"
     },
     "output_type": "display_data"
    }
   ],
   "source": [
    "weekend= pd.crosstab(data['dewasa'], (data['pembatalan']==0))\n",
    "\n",
    "stacked = weekend.stack().reset_index().rename(columns={0:'value'})\n",
    "sns.barplot(x=stacked.dewasa, y=stacked.value, hue=stacked.pembatalan)\n",
    "plt.show()"
   ]
  },
  {
   "cell_type": "markdown",
   "metadata": {},
   "source": [
    "##### Untuk menganalysis customer yang melakukan pembatalan berdasarkan nilai babies yang ada"
   ]
  },
  {
   "cell_type": "code",
   "execution_count": 36,
   "metadata": {},
   "outputs": [
    {
     "data": {
      "image/png": "[encoded data removed]",
      "text/plain": [
       "<Figure size 432x288 with 1 Axes>"
      ]
     },
     "metadata": {
      "needs_background": "light"
     },
     "output_type": "display_data"
    }
   ],
   "source": [
    "weekend= pd.crosstab(data['babies'], (data['pembatalan']==0))\n",
    "\n",
    "stacked = weekend.stack().reset_index().rename(columns={0:'value'})\n",
    "sns.barplot(x=stacked.babies, y=stacked.value, hue=stacked.pembatalan)\n",
    "plt.show()"
   ]
  },
  {
   "cell_type": "markdown",
   "metadata": {},
   "source": [
    "##### Untuk menganalysis customer yang melakukan pembatalan berdasarkan anak-anak yang ada"
   ]
  },
  {
   "cell_type": "code",
   "execution_count": 37,
   "metadata": {},
   "outputs": [
    {
     "data": {
      "image/png": "[encoded data removed]",
      "text/plain": [
       "<Figure size 432x288 with 1 Axes>"
      ]
     },
     "metadata": {
      "needs_background": "light"
     },
     "output_type": "display_data"
    }
   ],
   "source": [
    "weekend= pd.crosstab(data['anak_anak'], (data['pembatalan']==0))\n",
    "\n",
    "stacked = weekend.stack().reset_index().rename(columns={0:'value'})\n",
    "sns.barplot(x=stacked.anak_anak, y=stacked.value, hue=stacked.pembatalan)\n",
    "plt.show()"
   ]
  },
  {
   "cell_type": "markdown",
   "metadata": {},
   "source": [
    "##### Untuk melihat  jumlah tahhun yangh datang jumlah customer secara keseluruhan"
   ]
  },
  {
   "cell_type": "code",
   "execution_count": 99,
   "metadata": {},
   "outputs": [
    {
     "data": {
      "text/html": [
       "<div>\n",
       "<style scoped>\n",
       "    .dataframe tbody tr th:only-of-type {\n",
       "        vertical-align: middle;\n",
       "    }\n",
       "\n",
       "    .dataframe tbody tr th {\n",
       "        vertical-align: top;\n",
       "    }\n",
       "\n",
       "    .dataframe thead th {\n",
       "        text-align: right;\n",
       "    }\n",
       "</style>\n",
       "<table border=\"1\" class=\"dataframe\">\n",
       "  <thead>\n",
       "    <tr style=\"text-align: right;\">\n",
       "      <th></th>\n",
       "      <th>tahun</th>\n",
       "      <th>jumlah_tamu</th>\n",
       "    </tr>\n",
       "  </thead>\n",
       "  <tbody>\n",
       "    <tr>\n",
       "      <th>0</th>\n",
       "      <td>2018</td>\n",
       "      <td>20337</td>\n",
       "    </tr>\n",
       "    <tr>\n",
       "      <th>1</th>\n",
       "      <td>2019</td>\n",
       "      <td>15745</td>\n",
       "    </tr>\n",
       "    <tr>\n",
       "      <th>2</th>\n",
       "      <td>2017</td>\n",
       "      <td>8142</td>\n",
       "    </tr>\n",
       "  </tbody>\n",
       "</table>\n",
       "</div>"
      ],
      "text/plain": [
       "   tahun  jumlah_tamu\n",
       "0   2018        20337\n",
       "1   2019        15745\n",
       "2   2017         8142"
      ]
     },
     "execution_count": 99,
     "metadata": {},
     "output_type": "execute_result"
    }
   ],
   "source": [
    "country_wise_guests = data[data['pembatalan'] == 1]['tahun_kedatangan'].value_counts().reset_index()\n",
    "country_wise_guests.columns = ['tahun', 'jumlah_tamu']\n",
    "country_wise_guests"
   ]
  },
  {
   "cell_type": "markdown",
   "metadata": {},
   "source": [
    "##### Untuk melihat  jumlah negara yangh datang jumlah customer secara keseluruhan"
   ]
  },
  {
   "cell_type": "code",
   "execution_count": 39,
   "metadata": {},
   "outputs": [
    {
     "data": {
      "text/html": [
       "<div>\n",
       "<style scoped>\n",
       "    .dataframe tbody tr th:only-of-type {\n",
       "        vertical-align: middle;\n",
       "    }\n",
       "\n",
       "    .dataframe tbody tr th {\n",
       "        vertical-align: top;\n",
       "    }\n",
       "\n",
       "    .dataframe thead th {\n",
       "        text-align: right;\n",
       "    }\n",
       "</style>\n",
       "<table border=\"1\" class=\"dataframe\">\n",
       "  <thead>\n",
       "    <tr style=\"text-align: right;\">\n",
       "      <th></th>\n",
       "      <th>negara</th>\n",
       "      <th>jumlah_tamu</th>\n",
       "    </tr>\n",
       "  </thead>\n",
       "  <tbody>\n",
       "    <tr>\n",
       "      <th>0</th>\n",
       "      <td>PRT</td>\n",
       "      <td>27519</td>\n",
       "    </tr>\n",
       "    <tr>\n",
       "      <th>1</th>\n",
       "      <td>GBR</td>\n",
       "      <td>2453</td>\n",
       "    </tr>\n",
       "    <tr>\n",
       "      <th>2</th>\n",
       "      <td>ESP</td>\n",
       "      <td>2177</td>\n",
       "    </tr>\n",
       "    <tr>\n",
       "      <th>3</th>\n",
       "      <td>FRA</td>\n",
       "      <td>1934</td>\n",
       "    </tr>\n",
       "    <tr>\n",
       "      <th>4</th>\n",
       "      <td>ITA</td>\n",
       "      <td>1333</td>\n",
       "    </tr>\n",
       "    <tr>\n",
       "      <th>...</th>\n",
       "      <td>...</td>\n",
       "      <td>...</td>\n",
       "    </tr>\n",
       "    <tr>\n",
       "      <th>123</th>\n",
       "      <td>UMI</td>\n",
       "      <td>1</td>\n",
       "    </tr>\n",
       "    <tr>\n",
       "      <th>124</th>\n",
       "      <td>HND</td>\n",
       "      <td>1</td>\n",
       "    </tr>\n",
       "    <tr>\n",
       "      <th>125</th>\n",
       "      <td>FJI</td>\n",
       "      <td>1</td>\n",
       "    </tr>\n",
       "    <tr>\n",
       "      <th>126</th>\n",
       "      <td>SYC</td>\n",
       "      <td>1</td>\n",
       "    </tr>\n",
       "    <tr>\n",
       "      <th>127</th>\n",
       "      <td>CRI</td>\n",
       "      <td>1</td>\n",
       "    </tr>\n",
       "  </tbody>\n",
       "</table>\n",
       "<p>128 rows × 2 columns</p>\n",
       "</div>"
      ],
      "text/plain": [
       "    negara  jumlah_tamu\n",
       "0      PRT        27519\n",
       "1      GBR         2453\n",
       "2      ESP         2177\n",
       "3      FRA         1934\n",
       "4      ITA         1333\n",
       "..     ...          ...\n",
       "123    UMI            1\n",
       "124    HND            1\n",
       "125    FJI            1\n",
       "126    SYC            1\n",
       "127    CRI            1\n",
       "\n",
       "[128 rows x 2 columns]"
      ]
     },
     "execution_count": 39,
     "metadata": {},
     "output_type": "execute_result"
    }
   ],
   "source": [
    "country_wise_guests = data[data['pembatalan'] == 1]['negara'].value_counts().reset_index()\n",
    "country_wise_guests.columns = ['negara', 'jumlah_tamu']\n",
    "country_wise_guests"
   ]
  },
  {
   "cell_type": "markdown",
   "metadata": {},
   "source": [
    "##### melakukan variabel baru untuk mengalanisysy tiap tipe hotel \n",
    "##### data akan dibagi menjadi tipe hotel resort dan city"
   ]
  },
  {
   "cell_type": "code",
   "execution_count": 40,
   "metadata": {},
   "outputs": [],
   "source": [
    "data_resort = data[(data['tipe_hotel'] == 'Resort Hotel') & (data['pembatalan'] == 1)]\n",
    "data_city = data[(data['tipe_hotel'] == 'City Hotel') & (data['pembatalan'] == 1)]\n",
    "data_resort2 = data[(data['tipe_hotel'] == 'Resort Hotel') & (data['pembatalan'] == 0)]\n",
    "data_city2 = data[(data['tipe_hotel'] == 'City Hotel') & (data['pembatalan'] == 0)]"
   ]
  },
  {
   "cell_type": "markdown",
   "metadata": {},
   "source": [
    "#### Resort Hotel"
   ]
  },
  {
   "cell_type": "markdown",
   "metadata": {},
   "source": [
    "#### Total pendatapatan tiap bulanya untuk resort hotel berdasarkan bulan, \n",
    "#### Disini saya menganalysys tipe deposit,tipe customer,market segment, dewasa, dan tipe jenis makanan yang dipesan berdasarkan data resort hotel"
   ]
  },
  {
   "cell_type": "code",
   "execution_count": 42,
   "metadata": {},
   "outputs": [
    {
     "data": {
      "text/html": [
       "<div>\n",
       "<style scoped>\n",
       "    .dataframe tbody tr th:only-of-type {\n",
       "        vertical-align: middle;\n",
       "    }\n",
       "\n",
       "    .dataframe tbody tr th {\n",
       "        vertical-align: top;\n",
       "    }\n",
       "\n",
       "    .dataframe thead th {\n",
       "        text-align: right;\n",
       "    }\n",
       "</style>\n",
       "<table border=\"1\" class=\"dataframe\">\n",
       "  <thead>\n",
       "    <tr style=\"text-align: right;\">\n",
       "      <th></th>\n",
       "      <th>bulan_kedatangan</th>\n",
       "      <th>adr</th>\n",
       "    </tr>\n",
       "  </thead>\n",
       "  <tbody>\n",
       "    <tr>\n",
       "      <th>0</th>\n",
       "      <td>April</td>\n",
       "      <td>82.475921</td>\n",
       "    </tr>\n",
       "    <tr>\n",
       "      <th>1</th>\n",
       "      <td>August</td>\n",
       "      <td>197.684789</td>\n",
       "    </tr>\n",
       "    <tr>\n",
       "      <th>2</th>\n",
       "      <td>December</td>\n",
       "      <td>70.900158</td>\n",
       "    </tr>\n",
       "    <tr>\n",
       "      <th>3</th>\n",
       "      <td>February</td>\n",
       "      <td>58.055346</td>\n",
       "    </tr>\n",
       "    <tr>\n",
       "      <th>4</th>\n",
       "      <td>January</td>\n",
       "      <td>53.603077</td>\n",
       "    </tr>\n",
       "    <tr>\n",
       "      <th>5</th>\n",
       "      <td>July</td>\n",
       "      <td>166.002089</td>\n",
       "    </tr>\n",
       "    <tr>\n",
       "      <th>6</th>\n",
       "      <td>June</td>\n",
       "      <td>115.358491</td>\n",
       "    </tr>\n",
       "    <tr>\n",
       "      <th>7</th>\n",
       "      <td>March</td>\n",
       "      <td>59.096986</td>\n",
       "    </tr>\n",
       "    <tr>\n",
       "      <th>8</th>\n",
       "      <td>May</td>\n",
       "      <td>83.809570</td>\n",
       "    </tr>\n",
       "    <tr>\n",
       "      <th>9</th>\n",
       "      <td>November</td>\n",
       "      <td>46.240781</td>\n",
       "    </tr>\n",
       "    <tr>\n",
       "      <th>10</th>\n",
       "      <td>October</td>\n",
       "      <td>62.940695</td>\n",
       "    </tr>\n",
       "    <tr>\n",
       "      <th>11</th>\n",
       "      <td>September</td>\n",
       "      <td>86.411531</td>\n",
       "    </tr>\n",
       "  </tbody>\n",
       "</table>\n",
       "</div>"
      ],
      "text/plain": [
       "   bulan_kedatangan         adr\n",
       "0             April   82.475921\n",
       "1            August  197.684789\n",
       "2          December   70.900158\n",
       "3          February   58.055346\n",
       "4           January   53.603077\n",
       "5              July  166.002089\n",
       "6              June  115.358491\n",
       "7             March   59.096986\n",
       "8               May   83.809570\n",
       "9          November   46.240781\n",
       "10          October   62.940695\n",
       "11        September   86.411531"
      ]
     },
     "execution_count": 42,
     "metadata": {},
     "output_type": "execute_result"
    }
   ],
   "source": [
    "resort_hotel = data_resort.groupby(['bulan_kedatangan'])['adr'].mean().reset_index()\n",
    "resort_hotel"
   ]
  },
  {
   "cell_type": "code",
   "execution_count": 43,
   "metadata": {},
   "outputs": [
    {
     "data": {
      "text/html": [
       "<div>\n",
       "<style scoped>\n",
       "    .dataframe tbody tr th:only-of-type {\n",
       "        vertical-align: middle;\n",
       "    }\n",
       "\n",
       "    .dataframe tbody tr th {\n",
       "        vertical-align: top;\n",
       "    }\n",
       "\n",
       "    .dataframe thead th {\n",
       "        text-align: right;\n",
       "    }\n",
       "</style>\n",
       "<table border=\"1\" class=\"dataframe\">\n",
       "  <thead>\n",
       "    <tr style=\"text-align: right;\">\n",
       "      <th></th>\n",
       "      <th>bulan_kedatangan</th>\n",
       "      <th>adr</th>\n",
       "    </tr>\n",
       "  </thead>\n",
       "  <tbody>\n",
       "    <tr>\n",
       "      <th>0</th>\n",
       "      <td>April</td>\n",
       "      <td>75.654510</td>\n",
       "    </tr>\n",
       "    <tr>\n",
       "      <th>1</th>\n",
       "      <td>August</td>\n",
       "      <td>180.944120</td>\n",
       "    </tr>\n",
       "    <tr>\n",
       "      <th>2</th>\n",
       "      <td>December</td>\n",
       "      <td>68.129400</td>\n",
       "    </tr>\n",
       "    <tr>\n",
       "      <th>3</th>\n",
       "      <td>February</td>\n",
       "      <td>54.027296</td>\n",
       "    </tr>\n",
       "    <tr>\n",
       "      <th>4</th>\n",
       "      <td>January</td>\n",
       "      <td>48.603854</td>\n",
       "    </tr>\n",
       "    <tr>\n",
       "      <th>5</th>\n",
       "      <td>July</td>\n",
       "      <td>149.844756</td>\n",
       "    </tr>\n",
       "    <tr>\n",
       "      <th>6</th>\n",
       "      <td>June</td>\n",
       "      <td>107.646712</td>\n",
       "    </tr>\n",
       "    <tr>\n",
       "      <th>7</th>\n",
       "      <td>March</td>\n",
       "      <td>56.878741</td>\n",
       "    </tr>\n",
       "    <tr>\n",
       "      <th>8</th>\n",
       "      <td>May</td>\n",
       "      <td>76.439053</td>\n",
       "    </tr>\n",
       "    <tr>\n",
       "      <th>9</th>\n",
       "      <td>November</td>\n",
       "      <td>48.494433</td>\n",
       "    </tr>\n",
       "    <tr>\n",
       "      <th>10</th>\n",
       "      <td>October</td>\n",
       "      <td>61.528910</td>\n",
       "    </tr>\n",
       "    <tr>\n",
       "      <th>11</th>\n",
       "      <td>September</td>\n",
       "      <td>96.154615</td>\n",
       "    </tr>\n",
       "  </tbody>\n",
       "</table>\n",
       "</div>"
      ],
      "text/plain": [
       "   bulan_kedatangan         adr\n",
       "0             April   75.654510\n",
       "1            August  180.944120\n",
       "2          December   68.129400\n",
       "3          February   54.027296\n",
       "4           January   48.603854\n",
       "5              July  149.844756\n",
       "6              June  107.646712\n",
       "7             March   56.878741\n",
       "8               May   76.439053\n",
       "9          November   48.494433\n",
       "10          October   61.528910\n",
       "11        September   96.154615"
      ]
     },
     "execution_count": 43,
     "metadata": {},
     "output_type": "execute_result"
    }
   ],
   "source": [
    "resort_hotel2 = data_resort2.groupby(['bulan_kedatangan'])['adr'].mean().reset_index()\n",
    "resort_hotel2"
   ]
  },
  {
   "cell_type": "code",
   "execution_count": 44,
   "metadata": {},
   "outputs": [
    {
     "data": {
      "text/html": [
       "<div>\n",
       "<style scoped>\n",
       "    .dataframe tbody tr th:only-of-type {\n",
       "        vertical-align: middle;\n",
       "    }\n",
       "\n",
       "    .dataframe tbody tr th {\n",
       "        vertical-align: top;\n",
       "    }\n",
       "\n",
       "    .dataframe thead th {\n",
       "        text-align: right;\n",
       "    }\n",
       "</style>\n",
       "<table border=\"1\" class=\"dataframe\">\n",
       "  <thead>\n",
       "    <tr style=\"text-align: right;\">\n",
       "      <th></th>\n",
       "      <th>tahun_kedatangan</th>\n",
       "      <th>adr</th>\n",
       "    </tr>\n",
       "  </thead>\n",
       "  <tbody>\n",
       "    <tr>\n",
       "      <th>0</th>\n",
       "      <td>2017</td>\n",
       "      <td>87.970065</td>\n",
       "    </tr>\n",
       "    <tr>\n",
       "      <th>1</th>\n",
       "      <td>2018</td>\n",
       "      <td>98.138742</td>\n",
       "    </tr>\n",
       "    <tr>\n",
       "      <th>2</th>\n",
       "      <td>2019</td>\n",
       "      <td>123.981500</td>\n",
       "    </tr>\n",
       "  </tbody>\n",
       "</table>\n",
       "</div>"
      ],
      "text/plain": [
       "   tahun_kedatangan         adr\n",
       "0              2017   87.970065\n",
       "1              2018   98.138742\n",
       "2              2019  123.981500"
      ]
     },
     "execution_count": 44,
     "metadata": {},
     "output_type": "execute_result"
    }
   ],
   "source": [
    "resort_hotel = data_resort.groupby(['tahun_kedatangan'])['adr'].mean().reset_index()\n",
    "resort_hotel.head()"
   ]
  },
  {
   "cell_type": "code",
   "execution_count": 45,
   "metadata": {},
   "outputs": [
    {
     "data": {
      "text/html": [
       "<div>\n",
       "<style scoped>\n",
       "    .dataframe tbody tr th:only-of-type {\n",
       "        vertical-align: middle;\n",
       "    }\n",
       "\n",
       "    .dataframe tbody tr th {\n",
       "        vertical-align: top;\n",
       "    }\n",
       "\n",
       "    .dataframe thead th {\n",
       "        text-align: right;\n",
       "    }\n",
       "</style>\n",
       "<table border=\"1\" class=\"dataframe\">\n",
       "  <thead>\n",
       "    <tr style=\"text-align: right;\">\n",
       "      <th></th>\n",
       "      <th>tahun_kedatangan</th>\n",
       "      <th>adr</th>\n",
       "    </tr>\n",
       "  </thead>\n",
       "  <tbody>\n",
       "    <tr>\n",
       "      <th>0</th>\n",
       "      <td>2017</td>\n",
       "      <td>89.524773</td>\n",
       "    </tr>\n",
       "    <tr>\n",
       "      <th>1</th>\n",
       "      <td>2018</td>\n",
       "      <td>83.708367</td>\n",
       "    </tr>\n",
       "    <tr>\n",
       "      <th>2</th>\n",
       "      <td>2019</td>\n",
       "      <td>101.566356</td>\n",
       "    </tr>\n",
       "  </tbody>\n",
       "</table>\n",
       "</div>"
      ],
      "text/plain": [
       "   tahun_kedatangan         adr\n",
       "0              2017   89.524773\n",
       "1              2018   83.708367\n",
       "2              2019  101.566356"
      ]
     },
     "execution_count": 45,
     "metadata": {},
     "output_type": "execute_result"
    }
   ],
   "source": [
    "resort_hotel2 = data_resort2.groupby(['tahun_kedatangan'])['adr'].mean().reset_index()\n",
    "resort_hotel2.head()"
   ]
  },
  {
   "cell_type": "code",
   "execution_count": 46,
   "metadata": {},
   "outputs": [
    {
     "data": {
      "text/html": [
       "<div>\n",
       "<style scoped>\n",
       "    .dataframe tbody tr th:only-of-type {\n",
       "        vertical-align: middle;\n",
       "    }\n",
       "\n",
       "    .dataframe tbody tr th {\n",
       "        vertical-align: top;\n",
       "    }\n",
       "\n",
       "    .dataframe thead th {\n",
       "        text-align: right;\n",
       "    }\n",
       "</style>\n",
       "<table border=\"1\" class=\"dataframe\">\n",
       "  <thead>\n",
       "    <tr style=\"text-align: right;\">\n",
       "      <th></th>\n",
       "      <th>negara</th>\n",
       "      <th>jumlah_tamu</th>\n",
       "    </tr>\n",
       "  </thead>\n",
       "  <tbody>\n",
       "    <tr>\n",
       "      <th>0</th>\n",
       "      <td>PRT</td>\n",
       "      <td>7438</td>\n",
       "    </tr>\n",
       "    <tr>\n",
       "      <th>1</th>\n",
       "      <td>GBR</td>\n",
       "      <td>891</td>\n",
       "    </tr>\n",
       "    <tr>\n",
       "      <th>2</th>\n",
       "      <td>ESP</td>\n",
       "      <td>851</td>\n",
       "    </tr>\n",
       "    <tr>\n",
       "      <th>3</th>\n",
       "      <td>IRL</td>\n",
       "      <td>432</td>\n",
       "    </tr>\n",
       "    <tr>\n",
       "      <th>4</th>\n",
       "      <td>FRA</td>\n",
       "      <td>211</td>\n",
       "    </tr>\n",
       "  </tbody>\n",
       "</table>\n",
       "</div>"
      ],
      "text/plain": [
       "  negara  jumlah_tamu\n",
       "0    PRT         7438\n",
       "1    GBR          891\n",
       "2    ESP          851\n",
       "3    IRL          432\n",
       "4    FRA          211"
      ]
     },
     "execution_count": 46,
     "metadata": {},
     "output_type": "execute_result"
    }
   ],
   "source": [
    "tamu_resort = data_resort[data_resort['pembatalan'] == 1]['negara'].value_counts().reset_index()\n",
    "tamu_resort.columns = ['negara', 'jumlah_tamu']\n",
    "tamu_resort.head()"
   ]
  },
  {
   "cell_type": "code",
   "execution_count": 47,
   "metadata": {},
   "outputs": [
    {
     "data": {
      "text/html": [
       "<div>\n",
       "<style scoped>\n",
       "    .dataframe tbody tr th:only-of-type {\n",
       "        vertical-align: middle;\n",
       "    }\n",
       "\n",
       "    .dataframe tbody tr th {\n",
       "        vertical-align: top;\n",
       "    }\n",
       "\n",
       "    .dataframe thead th {\n",
       "        text-align: right;\n",
       "    }\n",
       "</style>\n",
       "<table border=\"1\" class=\"dataframe\">\n",
       "  <thead>\n",
       "    <tr style=\"text-align: right;\">\n",
       "      <th></th>\n",
       "      <th>negara</th>\n",
       "      <th>jumlah_tamu</th>\n",
       "    </tr>\n",
       "  </thead>\n",
       "  <tbody>\n",
       "    <tr>\n",
       "      <th>0</th>\n",
       "      <td>PRT</td>\n",
       "      <td>10192</td>\n",
       "    </tr>\n",
       "    <tr>\n",
       "      <th>1</th>\n",
       "      <td>GBR</td>\n",
       "      <td>5923</td>\n",
       "    </tr>\n",
       "    <tr>\n",
       "      <th>2</th>\n",
       "      <td>ESP</td>\n",
       "      <td>3106</td>\n",
       "    </tr>\n",
       "    <tr>\n",
       "      <th>3</th>\n",
       "      <td>IRL</td>\n",
       "      <td>1734</td>\n",
       "    </tr>\n",
       "    <tr>\n",
       "      <th>4</th>\n",
       "      <td>FRA</td>\n",
       "      <td>1400</td>\n",
       "    </tr>\n",
       "  </tbody>\n",
       "</table>\n",
       "</div>"
      ],
      "text/plain": [
       "  negara  jumlah_tamu\n",
       "0    PRT        10192\n",
       "1    GBR         5923\n",
       "2    ESP         3106\n",
       "3    IRL         1734\n",
       "4    FRA         1400"
      ]
     },
     "execution_count": 47,
     "metadata": {},
     "output_type": "execute_result"
    }
   ],
   "source": [
    "tamu_resort2 = data_resort2[data_resort2['pembatalan'] == 0]['negara'].value_counts().reset_index()\n",
    "tamu_resort2.columns = ['negara', 'jumlah_tamu']\n",
    "tamu_resort2.head()"
   ]
  },
  {
   "cell_type": "code",
   "execution_count": 48,
   "metadata": {},
   "outputs": [
    {
     "data": {
      "text/html": [
       "<div>\n",
       "<style scoped>\n",
       "    .dataframe tbody tr th:only-of-type {\n",
       "        vertical-align: middle;\n",
       "    }\n",
       "\n",
       "    .dataframe tbody tr th {\n",
       "        vertical-align: top;\n",
       "    }\n",
       "\n",
       "    .dataframe thead th {\n",
       "        text-align: right;\n",
       "    }\n",
       "</style>\n",
       "<table border=\"1\" class=\"dataframe\">\n",
       "  <thead>\n",
       "    <tr style=\"text-align: right;\">\n",
       "      <th></th>\n",
       "      <th>dewasa</th>\n",
       "      <th>jumlah_tamu</th>\n",
       "    </tr>\n",
       "  </thead>\n",
       "  <tbody>\n",
       "    <tr>\n",
       "      <th>0</th>\n",
       "      <td>2</td>\n",
       "      <td>9502</td>\n",
       "    </tr>\n",
       "    <tr>\n",
       "      <th>1</th>\n",
       "      <td>1</td>\n",
       "      <td>1220</td>\n",
       "    </tr>\n",
       "    <tr>\n",
       "      <th>2</th>\n",
       "      <td>3</td>\n",
       "      <td>373</td>\n",
       "    </tr>\n",
       "    <tr>\n",
       "      <th>3</th>\n",
       "      <td>4</td>\n",
       "      <td>9</td>\n",
       "    </tr>\n",
       "    <tr>\n",
       "      <th>4</th>\n",
       "      <td>26</td>\n",
       "      <td>5</td>\n",
       "    </tr>\n",
       "  </tbody>\n",
       "</table>\n",
       "</div>"
      ],
      "text/plain": [
       "   dewasa  jumlah_tamu\n",
       "0       2         9502\n",
       "1       1         1220\n",
       "2       3          373\n",
       "3       4            9\n",
       "4      26            5"
      ]
     },
     "execution_count": 48,
     "metadata": {},
     "output_type": "execute_result"
    }
   ],
   "source": [
    "tamu_resort = data_resort[data_resort['pembatalan'] == 1]['dewasa'].value_counts().reset_index()\n",
    "tamu_resort.columns = ['dewasa', 'jumlah_tamu']\n",
    "tamu_resort.head()"
   ]
  },
  {
   "cell_type": "code",
   "execution_count": 49,
   "metadata": {},
   "outputs": [
    {
     "data": {
      "text/html": [
       "<div>\n",
       "<style scoped>\n",
       "    .dataframe tbody tr th:only-of-type {\n",
       "        vertical-align: middle;\n",
       "    }\n",
       "\n",
       "    .dataframe tbody tr th {\n",
       "        vertical-align: top;\n",
       "    }\n",
       "\n",
       "    .dataframe thead th {\n",
       "        text-align: right;\n",
       "    }\n",
       "</style>\n",
       "<table border=\"1\" class=\"dataframe\">\n",
       "  <thead>\n",
       "    <tr style=\"text-align: right;\">\n",
       "      <th></th>\n",
       "      <th>dewasa</th>\n",
       "      <th>jumlah_tamu</th>\n",
       "    </tr>\n",
       "  </thead>\n",
       "  <tbody>\n",
       "    <tr>\n",
       "      <th>0</th>\n",
       "      <td>2</td>\n",
       "      <td>21923</td>\n",
       "    </tr>\n",
       "    <tr>\n",
       "      <th>1</th>\n",
       "      <td>1</td>\n",
       "      <td>5928</td>\n",
       "    </tr>\n",
       "    <tr>\n",
       "      <th>2</th>\n",
       "      <td>3</td>\n",
       "      <td>1054</td>\n",
       "    </tr>\n",
       "    <tr>\n",
       "      <th>3</th>\n",
       "      <td>4</td>\n",
       "      <td>22</td>\n",
       "    </tr>\n",
       "    <tr>\n",
       "      <th>4</th>\n",
       "      <td>0</td>\n",
       "      <td>11</td>\n",
       "    </tr>\n",
       "  </tbody>\n",
       "</table>\n",
       "</div>"
      ],
      "text/plain": [
       "   dewasa  jumlah_tamu\n",
       "0       2        21923\n",
       "1       1         5928\n",
       "2       3         1054\n",
       "3       4           22\n",
       "4       0           11"
      ]
     },
     "execution_count": 49,
     "metadata": {},
     "output_type": "execute_result"
    }
   ],
   "source": [
    "tamu_resort2 = data_resort2[data_resort2['pembatalan'] == 0]['dewasa'].value_counts().reset_index()\n",
    "tamu_resort2.columns = ['dewasa', 'jumlah_tamu']\n",
    "tamu_resort2.head()"
   ]
  },
  {
   "cell_type": "code",
   "execution_count": 50,
   "metadata": {},
   "outputs": [
    {
     "data": {
      "text/html": [
       "<div>\n",
       "<style scoped>\n",
       "    .dataframe tbody tr th:only-of-type {\n",
       "        vertical-align: middle;\n",
       "    }\n",
       "\n",
       "    .dataframe tbody tr th {\n",
       "        vertical-align: top;\n",
       "    }\n",
       "\n",
       "    .dataframe thead th {\n",
       "        text-align: right;\n",
       "    }\n",
       "</style>\n",
       "<table border=\"1\" class=\"dataframe\">\n",
       "  <thead>\n",
       "    <tr style=\"text-align: right;\">\n",
       "      <th></th>\n",
       "      <th>anak</th>\n",
       "      <th>jumlah_tamu</th>\n",
       "    </tr>\n",
       "  </thead>\n",
       "  <tbody>\n",
       "    <tr>\n",
       "      <th>0</th>\n",
       "      <td>0.0</td>\n",
       "      <td>9808</td>\n",
       "    </tr>\n",
       "    <tr>\n",
       "      <th>1</th>\n",
       "      <td>2.0</td>\n",
       "      <td>753</td>\n",
       "    </tr>\n",
       "    <tr>\n",
       "      <th>2</th>\n",
       "      <td>1.0</td>\n",
       "      <td>558</td>\n",
       "    </tr>\n",
       "    <tr>\n",
       "      <th>3</th>\n",
       "      <td>3.0</td>\n",
       "      <td>2</td>\n",
       "    </tr>\n",
       "    <tr>\n",
       "      <th>4</th>\n",
       "      <td>10.0</td>\n",
       "      <td>1</td>\n",
       "    </tr>\n",
       "  </tbody>\n",
       "</table>\n",
       "</div>"
      ],
      "text/plain": [
       "   anak  jumlah_tamu\n",
       "0   0.0         9808\n",
       "1   2.0          753\n",
       "2   1.0          558\n",
       "3   3.0            2\n",
       "4  10.0            1"
      ]
     },
     "execution_count": 50,
     "metadata": {},
     "output_type": "execute_result"
    }
   ],
   "source": [
    "tamu_resort = data_resort[data_resort['pembatalan'] == 1]['anak_anak'].value_counts().reset_index()\n",
    "tamu_resort.columns = ['anak', 'jumlah_tamu']\n",
    "tamu_resort"
   ]
  },
  {
   "cell_type": "code",
   "execution_count": 51,
   "metadata": {},
   "outputs": [
    {
     "data": {
      "text/html": [
       "<div>\n",
       "<style scoped>\n",
       "    .dataframe tbody tr th:only-of-type {\n",
       "        vertical-align: middle;\n",
       "    }\n",
       "\n",
       "    .dataframe tbody tr th {\n",
       "        vertical-align: top;\n",
       "    }\n",
       "\n",
       "    .dataframe thead th {\n",
       "        text-align: right;\n",
       "    }\n",
       "</style>\n",
       "<table border=\"1\" class=\"dataframe\">\n",
       "  <thead>\n",
       "    <tr style=\"text-align: right;\">\n",
       "      <th></th>\n",
       "      <th>anak</th>\n",
       "      <th>jumlah_tamu</th>\n",
       "    </tr>\n",
       "  </thead>\n",
       "  <tbody>\n",
       "    <tr>\n",
       "      <th>0</th>\n",
       "      <td>0.0</td>\n",
       "      <td>26768</td>\n",
       "    </tr>\n",
       "    <tr>\n",
       "      <th>1</th>\n",
       "      <td>1.0</td>\n",
       "      <td>1280</td>\n",
       "    </tr>\n",
       "    <tr>\n",
       "      <th>2</th>\n",
       "      <td>2.0</td>\n",
       "      <td>875</td>\n",
       "    </tr>\n",
       "    <tr>\n",
       "      <th>3</th>\n",
       "      <td>3.0</td>\n",
       "      <td>15</td>\n",
       "    </tr>\n",
       "  </tbody>\n",
       "</table>\n",
       "</div>"
      ],
      "text/plain": [
       "   anak  jumlah_tamu\n",
       "0   0.0        26768\n",
       "1   1.0         1280\n",
       "2   2.0          875\n",
       "3   3.0           15"
      ]
     },
     "execution_count": 51,
     "metadata": {},
     "output_type": "execute_result"
    }
   ],
   "source": [
    "tamu_resort2 = data_resort2[data_resort2['pembatalan'] == 0]['anak_anak'].value_counts().reset_index()\n",
    "tamu_resort2.columns = ['anak', 'jumlah_tamu']\n",
    "tamu_resort2"
   ]
  },
  {
   "cell_type": "code",
   "execution_count": 53,
   "metadata": {},
   "outputs": [
    {
     "data": {
      "text/html": [
       "<div>\n",
       "<style scoped>\n",
       "    .dataframe tbody tr th:only-of-type {\n",
       "        vertical-align: middle;\n",
       "    }\n",
       "\n",
       "    .dataframe tbody tr th {\n",
       "        vertical-align: top;\n",
       "    }\n",
       "\n",
       "    .dataframe thead th {\n",
       "        text-align: right;\n",
       "    }\n",
       "</style>\n",
       "<table border=\"1\" class=\"dataframe\">\n",
       "  <thead>\n",
       "    <tr style=\"text-align: right;\">\n",
       "      <th></th>\n",
       "      <th>market_segment</th>\n",
       "      <th>jumlah_tamu</th>\n",
       "    </tr>\n",
       "  </thead>\n",
       "  <tbody>\n",
       "    <tr>\n",
       "      <th>0</th>\n",
       "      <td>Online TA</td>\n",
       "      <td>6248</td>\n",
       "    </tr>\n",
       "    <tr>\n",
       "      <th>1</th>\n",
       "      <td>Groups</td>\n",
       "      <td>2474</td>\n",
       "    </tr>\n",
       "    <tr>\n",
       "      <th>2</th>\n",
       "      <td>Offline TA/TO</td>\n",
       "      <td>1138</td>\n",
       "    </tr>\n",
       "    <tr>\n",
       "      <th>3</th>\n",
       "      <td>Direct</td>\n",
       "      <td>878</td>\n",
       "    </tr>\n",
       "    <tr>\n",
       "      <th>4</th>\n",
       "      <td>Corporate</td>\n",
       "      <td>351</td>\n",
       "    </tr>\n",
       "  </tbody>\n",
       "</table>\n",
       "</div>"
      ],
      "text/plain": [
       "  market_segment  jumlah_tamu\n",
       "0      Online TA         6248\n",
       "1         Groups         2474\n",
       "2  Offline TA/TO         1138\n",
       "3         Direct          878\n",
       "4      Corporate          351"
      ]
     },
     "execution_count": 53,
     "metadata": {},
     "output_type": "execute_result"
    }
   ],
   "source": [
    "tamu_resort = data_resort[data_resort['pembatalan'] == 1]['market_segment'].value_counts().reset_index()\n",
    "tamu_resort.columns = ['market_segment', 'jumlah_tamu']\n",
    "tamu_resort.head()"
   ]
  },
  {
   "cell_type": "code",
   "execution_count": 54,
   "metadata": {},
   "outputs": [
    {
     "data": {
      "text/html": [
       "<div>\n",
       "<style scoped>\n",
       "    .dataframe tbody tr th:only-of-type {\n",
       "        vertical-align: middle;\n",
       "    }\n",
       "\n",
       "    .dataframe tbody tr th {\n",
       "        vertical-align: top;\n",
       "    }\n",
       "\n",
       "    .dataframe thead th {\n",
       "        text-align: right;\n",
       "    }\n",
       "</style>\n",
       "<table border=\"1\" class=\"dataframe\">\n",
       "  <thead>\n",
       "    <tr style=\"text-align: right;\">\n",
       "      <th></th>\n",
       "      <th>market_segment</th>\n",
       "      <th>jumlah_tamu</th>\n",
       "    </tr>\n",
       "  </thead>\n",
       "  <tbody>\n",
       "    <tr>\n",
       "      <th>0</th>\n",
       "      <td>Online TA</td>\n",
       "      <td>11481</td>\n",
       "    </tr>\n",
       "    <tr>\n",
       "      <th>1</th>\n",
       "      <td>Offline TA/TO</td>\n",
       "      <td>6334</td>\n",
       "    </tr>\n",
       "    <tr>\n",
       "      <th>2</th>\n",
       "      <td>Direct</td>\n",
       "      <td>5635</td>\n",
       "    </tr>\n",
       "    <tr>\n",
       "      <th>3</th>\n",
       "      <td>Groups</td>\n",
       "      <td>3362</td>\n",
       "    </tr>\n",
       "    <tr>\n",
       "      <th>4</th>\n",
       "      <td>Corporate</td>\n",
       "      <td>1958</td>\n",
       "    </tr>\n",
       "  </tbody>\n",
       "</table>\n",
       "</div>"
      ],
      "text/plain": [
       "  market_segment  jumlah_tamu\n",
       "0      Online TA        11481\n",
       "1  Offline TA/TO         6334\n",
       "2         Direct         5635\n",
       "3         Groups         3362\n",
       "4      Corporate         1958"
      ]
     },
     "execution_count": 54,
     "metadata": {},
     "output_type": "execute_result"
    }
   ],
   "source": [
    "tamu_resort2 = data_resort2[data_resort2['pembatalan'] == 0]['market_segment'].value_counts().reset_index()\n",
    "tamu_resort2.columns = ['market_segment', 'jumlah_tamu']\n",
    "tamu_resort2.head()"
   ]
  },
  {
   "cell_type": "code",
   "execution_count": 55,
   "metadata": {},
   "outputs": [
    {
     "data": {
      "text/html": [
       "<div>\n",
       "<style scoped>\n",
       "    .dataframe tbody tr th:only-of-type {\n",
       "        vertical-align: middle;\n",
       "    }\n",
       "\n",
       "    .dataframe tbody tr th {\n",
       "        vertical-align: top;\n",
       "    }\n",
       "\n",
       "    .dataframe thead th {\n",
       "        text-align: right;\n",
       "    }\n",
       "</style>\n",
       "<table border=\"1\" class=\"dataframe\">\n",
       "  <thead>\n",
       "    <tr style=\"text-align: right;\">\n",
       "      <th></th>\n",
       "      <th>tipe_deposit</th>\n",
       "      <th>jumlah_tamu</th>\n",
       "    </tr>\n",
       "  </thead>\n",
       "  <tbody>\n",
       "    <tr>\n",
       "      <th>0</th>\n",
       "      <td>No Deposit</td>\n",
       "      <td>9450</td>\n",
       "    </tr>\n",
       "    <tr>\n",
       "      <th>1</th>\n",
       "      <td>Non Refund</td>\n",
       "      <td>1650</td>\n",
       "    </tr>\n",
       "    <tr>\n",
       "      <th>2</th>\n",
       "      <td>Refundable</td>\n",
       "      <td>22</td>\n",
       "    </tr>\n",
       "  </tbody>\n",
       "</table>\n",
       "</div>"
      ],
      "text/plain": [
       "  tipe_deposit  jumlah_tamu\n",
       "0   No Deposit         9450\n",
       "1   Non Refund         1650\n",
       "2   Refundable           22"
      ]
     },
     "execution_count": 55,
     "metadata": {},
     "output_type": "execute_result"
    }
   ],
   "source": [
    "tamu_resort = data_resort[data_resort['pembatalan'] == 1]['tipe_deposit'].value_counts().reset_index()\n",
    "tamu_resort.columns = ['tipe_deposit', 'jumlah_tamu']\n",
    "tamu_resort"
   ]
  },
  {
   "cell_type": "code",
   "execution_count": 56,
   "metadata": {},
   "outputs": [
    {
     "data": {
      "text/html": [
       "<div>\n",
       "<style scoped>\n",
       "    .dataframe tbody tr th:only-of-type {\n",
       "        vertical-align: middle;\n",
       "    }\n",
       "\n",
       "    .dataframe tbody tr th {\n",
       "        vertical-align: top;\n",
       "    }\n",
       "\n",
       "    .dataframe thead th {\n",
       "        text-align: right;\n",
       "    }\n",
       "</style>\n",
       "<table border=\"1\" class=\"dataframe\">\n",
       "  <thead>\n",
       "    <tr style=\"text-align: right;\">\n",
       "      <th></th>\n",
       "      <th>tipe_deposit</th>\n",
       "      <th>jumlah_tamu</th>\n",
       "    </tr>\n",
       "  </thead>\n",
       "  <tbody>\n",
       "    <tr>\n",
       "      <th>0</th>\n",
       "      <td>No Deposit</td>\n",
       "      <td>28749</td>\n",
       "    </tr>\n",
       "    <tr>\n",
       "      <th>1</th>\n",
       "      <td>Refundable</td>\n",
       "      <td>120</td>\n",
       "    </tr>\n",
       "    <tr>\n",
       "      <th>2</th>\n",
       "      <td>Non Refund</td>\n",
       "      <td>69</td>\n",
       "    </tr>\n",
       "  </tbody>\n",
       "</table>\n",
       "</div>"
      ],
      "text/plain": [
       "  tipe_deposit  jumlah_tamu\n",
       "0   No Deposit        28749\n",
       "1   Refundable          120\n",
       "2   Non Refund           69"
      ]
     },
     "execution_count": 56,
     "metadata": {},
     "output_type": "execute_result"
    }
   ],
   "source": [
    "tamu_resort2 = data_resort2[data_resort2['pembatalan'] == 0]['tipe_deposit'].value_counts().reset_index()\n",
    "tamu_resort2.columns = ['tipe_deposit', 'jumlah_tamu']\n",
    "tamu_resort2"
   ]
  },
  {
   "cell_type": "code",
   "execution_count": 57,
   "metadata": {},
   "outputs": [
    {
     "data": {
      "text/html": [
       "<div>\n",
       "<style scoped>\n",
       "    .dataframe tbody tr th:only-of-type {\n",
       "        vertical-align: middle;\n",
       "    }\n",
       "\n",
       "    .dataframe tbody tr th {\n",
       "        vertical-align: top;\n",
       "    }\n",
       "\n",
       "    .dataframe thead th {\n",
       "        text-align: right;\n",
       "    }\n",
       "</style>\n",
       "<table border=\"1\" class=\"dataframe\">\n",
       "  <thead>\n",
       "    <tr style=\"text-align: right;\">\n",
       "      <th></th>\n",
       "      <th>customer</th>\n",
       "      <th>jumlah_tamu</th>\n",
       "    </tr>\n",
       "  </thead>\n",
       "  <tbody>\n",
       "    <tr>\n",
       "      <th>0</th>\n",
       "      <td>Transient</td>\n",
       "      <td>9416</td>\n",
       "    </tr>\n",
       "    <tr>\n",
       "      <th>1</th>\n",
       "      <td>Transient-Party</td>\n",
       "      <td>1519</td>\n",
       "    </tr>\n",
       "    <tr>\n",
       "      <th>2</th>\n",
       "      <td>Contract</td>\n",
       "      <td>157</td>\n",
       "    </tr>\n",
       "    <tr>\n",
       "      <th>3</th>\n",
       "      <td>Group</td>\n",
       "      <td>30</td>\n",
       "    </tr>\n",
       "  </tbody>\n",
       "</table>\n",
       "</div>"
      ],
      "text/plain": [
       "          customer  jumlah_tamu\n",
       "0        Transient         9416\n",
       "1  Transient-Party         1519\n",
       "2         Contract          157\n",
       "3            Group           30"
      ]
     },
     "execution_count": 57,
     "metadata": {},
     "output_type": "execute_result"
    }
   ],
   "source": [
    "tamu_resort = data_resort[data_resort['pembatalan'] == 1]['tipe_customer'].value_counts().reset_index()\n",
    "tamu_resort.columns = ['customer', 'jumlah_tamu']\n",
    "tamu_resort"
   ]
  },
  {
   "cell_type": "code",
   "execution_count": 58,
   "metadata": {},
   "outputs": [
    {
     "data": {
      "text/html": [
       "<div>\n",
       "<style scoped>\n",
       "    .dataframe tbody tr th:only-of-type {\n",
       "        vertical-align: middle;\n",
       "    }\n",
       "\n",
       "    .dataframe tbody tr th {\n",
       "        vertical-align: top;\n",
       "    }\n",
       "\n",
       "    .dataframe thead th {\n",
       "        text-align: right;\n",
       "    }\n",
       "</style>\n",
       "<table border=\"1\" class=\"dataframe\">\n",
       "  <thead>\n",
       "    <tr style=\"text-align: right;\">\n",
       "      <th></th>\n",
       "      <th>customer</th>\n",
       "      <th>jumlah_tamu</th>\n",
       "    </tr>\n",
       "  </thead>\n",
       "  <tbody>\n",
       "    <tr>\n",
       "      <th>0</th>\n",
       "      <td>Transient</td>\n",
       "      <td>20793</td>\n",
       "    </tr>\n",
       "    <tr>\n",
       "      <th>1</th>\n",
       "      <td>Transient-Party</td>\n",
       "      <td>6272</td>\n",
       "    </tr>\n",
       "    <tr>\n",
       "      <th>2</th>\n",
       "      <td>Contract</td>\n",
       "      <td>1619</td>\n",
       "    </tr>\n",
       "    <tr>\n",
       "      <th>3</th>\n",
       "      <td>Group</td>\n",
       "      <td>254</td>\n",
       "    </tr>\n",
       "  </tbody>\n",
       "</table>\n",
       "</div>"
      ],
      "text/plain": [
       "          customer  jumlah_tamu\n",
       "0        Transient        20793\n",
       "1  Transient-Party         6272\n",
       "2         Contract         1619\n",
       "3            Group          254"
      ]
     },
     "execution_count": 58,
     "metadata": {},
     "output_type": "execute_result"
    }
   ],
   "source": [
    "tamu_resort2 = data_resort2[data_resort2['pembatalan'] == 0]['tipe_customer'].value_counts().reset_index()\n",
    "tamu_resort2.columns = ['customer', 'jumlah_tamu']\n",
    "tamu_resort2"
   ]
  },
  {
   "cell_type": "code",
   "execution_count": 59,
   "metadata": {},
   "outputs": [
    {
     "data": {
      "text/html": [
       "<div>\n",
       "<style scoped>\n",
       "    .dataframe tbody tr th:only-of-type {\n",
       "        vertical-align: middle;\n",
       "    }\n",
       "\n",
       "    .dataframe tbody tr th {\n",
       "        vertical-align: top;\n",
       "    }\n",
       "\n",
       "    .dataframe thead th {\n",
       "        text-align: right;\n",
       "    }\n",
       "</style>\n",
       "<table border=\"1\" class=\"dataframe\">\n",
       "  <thead>\n",
       "    <tr style=\"text-align: right;\">\n",
       "      <th></th>\n",
       "      <th>jenis_makanan</th>\n",
       "      <th>jumlah_tamu</th>\n",
       "    </tr>\n",
       "  </thead>\n",
       "  <tbody>\n",
       "    <tr>\n",
       "      <th>0</th>\n",
       "      <td>BB</td>\n",
       "      <td>7843</td>\n",
       "    </tr>\n",
       "    <tr>\n",
       "      <th>1</th>\n",
       "      <td>HB</td>\n",
       "      <td>2547</td>\n",
       "    </tr>\n",
       "    <tr>\n",
       "      <th>2</th>\n",
       "      <td>FB</td>\n",
       "      <td>443</td>\n",
       "    </tr>\n",
       "    <tr>\n",
       "      <th>3</th>\n",
       "      <td>Undefined</td>\n",
       "      <td>286</td>\n",
       "    </tr>\n",
       "    <tr>\n",
       "      <th>4</th>\n",
       "      <td>SC</td>\n",
       "      <td>3</td>\n",
       "    </tr>\n",
       "  </tbody>\n",
       "</table>\n",
       "</div>"
      ],
      "text/plain": [
       "  jenis_makanan  jumlah_tamu\n",
       "0            BB         7843\n",
       "1            HB         2547\n",
       "2            FB          443\n",
       "3     Undefined          286\n",
       "4            SC            3"
      ]
     },
     "execution_count": 59,
     "metadata": {},
     "output_type": "execute_result"
    }
   ],
   "source": [
    "tamu_resort = data_resort[data_resort['pembatalan'] == 1]['meal'].value_counts().reset_index()\n",
    "tamu_resort.columns = ['jenis_makanan', 'jumlah_tamu']\n",
    "tamu_resort"
   ]
  },
  {
   "cell_type": "code",
   "execution_count": 60,
   "metadata": {},
   "outputs": [
    {
     "data": {
      "text/html": [
       "<div>\n",
       "<style scoped>\n",
       "    .dataframe tbody tr th:only-of-type {\n",
       "        vertical-align: middle;\n",
       "    }\n",
       "\n",
       "    .dataframe tbody tr th {\n",
       "        vertical-align: top;\n",
       "    }\n",
       "\n",
       "    .dataframe thead th {\n",
       "        text-align: right;\n",
       "    }\n",
       "</style>\n",
       "<table border=\"1\" class=\"dataframe\">\n",
       "  <thead>\n",
       "    <tr style=\"text-align: right;\">\n",
       "      <th></th>\n",
       "      <th>jenis_makanan</th>\n",
       "      <th>jumlah_tamu</th>\n",
       "    </tr>\n",
       "  </thead>\n",
       "  <tbody>\n",
       "    <tr>\n",
       "      <th>0</th>\n",
       "      <td>BB</td>\n",
       "      <td>22162</td>\n",
       "    </tr>\n",
       "    <tr>\n",
       "      <th>1</th>\n",
       "      <td>HB</td>\n",
       "      <td>5499</td>\n",
       "    </tr>\n",
       "    <tr>\n",
       "      <th>2</th>\n",
       "      <td>Undefined</td>\n",
       "      <td>883</td>\n",
       "    </tr>\n",
       "    <tr>\n",
       "      <th>3</th>\n",
       "      <td>FB</td>\n",
       "      <td>311</td>\n",
       "    </tr>\n",
       "    <tr>\n",
       "      <th>4</th>\n",
       "      <td>SC</td>\n",
       "      <td>83</td>\n",
       "    </tr>\n",
       "  </tbody>\n",
       "</table>\n",
       "</div>"
      ],
      "text/plain": [
       "  jenis_makanan  jumlah_tamu\n",
       "0            BB        22162\n",
       "1            HB         5499\n",
       "2     Undefined          883\n",
       "3            FB          311\n",
       "4            SC           83"
      ]
     },
     "execution_count": 60,
     "metadata": {},
     "output_type": "execute_result"
    }
   ],
   "source": [
    "tamu_resort2 = data_resort2[data_resort2['pembatalan'] == 0]['meal'].value_counts().reset_index()\n",
    "tamu_resort2.columns = ['jenis_makanan', 'jumlah_tamu']\n",
    "tamu_resort2"
   ]
  },
  {
   "cell_type": "markdown",
   "metadata": {},
   "source": [
    "#### CITY Hotel\n",
    "\n",
    "#### Disini saya menganalysys tipe deposit,tipe customer,market segment, dewasa, dan tipe jenis makanan yang dipesan berdasarkan data city hotel"
   ]
  },
  {
   "cell_type": "code",
   "execution_count": 64,
   "metadata": {},
   "outputs": [
    {
     "data": {
      "text/html": [
       "<div>\n",
       "<style scoped>\n",
       "    .dataframe tbody tr th:only-of-type {\n",
       "        vertical-align: middle;\n",
       "    }\n",
       "\n",
       "    .dataframe tbody tr th {\n",
       "        vertical-align: top;\n",
       "    }\n",
       "\n",
       "    .dataframe thead th {\n",
       "        text-align: right;\n",
       "    }\n",
       "</style>\n",
       "<table border=\"1\" class=\"dataframe\">\n",
       "  <thead>\n",
       "    <tr style=\"text-align: right;\">\n",
       "      <th></th>\n",
       "      <th>bulan_kedatangan</th>\n",
       "      <th>adr</th>\n",
       "    </tr>\n",
       "  </thead>\n",
       "  <tbody>\n",
       "    <tr>\n",
       "      <th>0</th>\n",
       "      <td>April</td>\n",
       "      <td>110.391342</td>\n",
       "    </tr>\n",
       "    <tr>\n",
       "      <th>1</th>\n",
       "      <td>August</td>\n",
       "      <td>108.869795</td>\n",
       "    </tr>\n",
       "    <tr>\n",
       "      <th>2</th>\n",
       "      <td>December</td>\n",
       "      <td>89.872989</td>\n",
       "    </tr>\n",
       "    <tr>\n",
       "      <th>3</th>\n",
       "      <td>February</td>\n",
       "      <td>83.163072</td>\n",
       "    </tr>\n",
       "    <tr>\n",
       "      <th>4</th>\n",
       "      <td>January</td>\n",
       "      <td>83.139001</td>\n",
       "    </tr>\n",
       "    <tr>\n",
       "      <th>5</th>\n",
       "      <td>July</td>\n",
       "      <td>103.506050</td>\n",
       "    </tr>\n",
       "    <tr>\n",
       "      <th>6</th>\n",
       "      <td>June</td>\n",
       "      <td>120.654762</td>\n",
       "    </tr>\n",
       "    <tr>\n",
       "      <th>7</th>\n",
       "      <td>March</td>\n",
       "      <td>96.636211</td>\n",
       "    </tr>\n",
       "    <tr>\n",
       "      <th>8</th>\n",
       "      <td>May</td>\n",
       "      <td>123.005201</td>\n",
       "    </tr>\n",
       "    <tr>\n",
       "      <th>9</th>\n",
       "      <td>November</td>\n",
       "      <td>90.415412</td>\n",
       "    </tr>\n",
       "    <tr>\n",
       "      <th>10</th>\n",
       "      <td>October</td>\n",
       "      <td>97.476744</td>\n",
       "    </tr>\n",
       "    <tr>\n",
       "      <th>11</th>\n",
       "      <td>September</td>\n",
       "      <td>106.289389</td>\n",
       "    </tr>\n",
       "  </tbody>\n",
       "</table>\n",
       "</div>"
      ],
      "text/plain": [
       "   bulan_kedatangan         adr\n",
       "0             April  110.391342\n",
       "1            August  108.869795\n",
       "2          December   89.872989\n",
       "3          February   83.163072\n",
       "4           January   83.139001\n",
       "5              July  103.506050\n",
       "6              June  120.654762\n",
       "7             March   96.636211\n",
       "8               May  123.005201\n",
       "9          November   90.415412\n",
       "10          October   97.476744\n",
       "11        September  106.289389"
      ]
     },
     "execution_count": 64,
     "metadata": {},
     "output_type": "execute_result"
    }
   ],
   "source": [
    "import matplotlib.pyplot as plt\n",
    "city_hotel = city_hotel = data_city.groupby(['bulan_kedatangan'])['adr'].mean().reset_index()\n",
    "city_hotel\n"
   ]
  },
  {
   "cell_type": "code",
   "execution_count": 65,
   "metadata": {},
   "outputs": [
    {
     "data": {
      "text/html": [
       "<div>\n",
       "<style scoped>\n",
       "    .dataframe tbody tr th:only-of-type {\n",
       "        vertical-align: middle;\n",
       "    }\n",
       "\n",
       "    .dataframe tbody tr th {\n",
       "        vertical-align: top;\n",
       "    }\n",
       "\n",
       "    .dataframe thead th {\n",
       "        text-align: right;\n",
       "    }\n",
       "</style>\n",
       "<table border=\"1\" class=\"dataframe\">\n",
       "  <thead>\n",
       "    <tr style=\"text-align: right;\">\n",
       "      <th></th>\n",
       "      <th>tahun_kedatangan</th>\n",
       "      <th>adr</th>\n",
       "    </tr>\n",
       "  </thead>\n",
       "  <tbody>\n",
       "    <tr>\n",
       "      <th>0</th>\n",
       "      <td>2017</td>\n",
       "      <td>83.139074</td>\n",
       "    </tr>\n",
       "    <tr>\n",
       "      <th>1</th>\n",
       "      <td>2018</td>\n",
       "      <td>102.389693</td>\n",
       "    </tr>\n",
       "    <tr>\n",
       "      <th>2</th>\n",
       "      <td>2019</td>\n",
       "      <td>118.272261</td>\n",
       "    </tr>\n",
       "  </tbody>\n",
       "</table>\n",
       "</div>"
      ],
      "text/plain": [
       "   tahun_kedatangan         adr\n",
       "0              2017   83.139074\n",
       "1              2018  102.389693\n",
       "2              2019  118.272261"
      ]
     },
     "execution_count": 65,
     "metadata": {},
     "output_type": "execute_result"
    }
   ],
   "source": [
    "city_hotel = data_city.groupby(['tahun_kedatangan'])['adr'].mean().reset_index()\n",
    "city_hotel"
   ]
  },
  {
   "cell_type": "code",
   "execution_count": 67,
   "metadata": {},
   "outputs": [
    {
     "data": {
      "text/html": [
       "<div>\n",
       "<style scoped>\n",
       "    .dataframe tbody tr th:only-of-type {\n",
       "        vertical-align: middle;\n",
       "    }\n",
       "\n",
       "    .dataframe tbody tr th {\n",
       "        vertical-align: top;\n",
       "    }\n",
       "\n",
       "    .dataframe thead th {\n",
       "        text-align: right;\n",
       "    }\n",
       "</style>\n",
       "<table border=\"1\" class=\"dataframe\">\n",
       "  <thead>\n",
       "    <tr style=\"text-align: right;\">\n",
       "      <th></th>\n",
       "      <th>negara</th>\n",
       "      <th>jumlah_tamu</th>\n",
       "    </tr>\n",
       "  </thead>\n",
       "  <tbody>\n",
       "    <tr>\n",
       "      <th>0</th>\n",
       "      <td>PRT</td>\n",
       "      <td>20081</td>\n",
       "    </tr>\n",
       "    <tr>\n",
       "      <th>1</th>\n",
       "      <td>FRA</td>\n",
       "      <td>1723</td>\n",
       "    </tr>\n",
       "    <tr>\n",
       "      <th>2</th>\n",
       "      <td>GBR</td>\n",
       "      <td>1562</td>\n",
       "    </tr>\n",
       "    <tr>\n",
       "      <th>3</th>\n",
       "      <td>ESP</td>\n",
       "      <td>1326</td>\n",
       "    </tr>\n",
       "    <tr>\n",
       "      <th>4</th>\n",
       "      <td>ITA</td>\n",
       "      <td>1253</td>\n",
       "    </tr>\n",
       "  </tbody>\n",
       "</table>\n",
       "</div>"
      ],
      "text/plain": [
       "  negara  jumlah_tamu\n",
       "0    PRT        20081\n",
       "1    FRA         1723\n",
       "2    GBR         1562\n",
       "3    ESP         1326\n",
       "4    ITA         1253"
      ]
     },
     "execution_count": 67,
     "metadata": {},
     "output_type": "execute_result"
    }
   ],
   "source": [
    "tamu_city = data_city[data_city['pembatalan'] == 1]['negara'].value_counts().reset_index()\n",
    "tamu_city.columns = ['negara', 'jumlah_tamu']\n",
    "tamu_city.head()"
   ]
  },
  {
   "cell_type": "code",
   "execution_count": 68,
   "metadata": {},
   "outputs": [
    {
     "data": {
      "text/html": [
       "<div>\n",
       "<style scoped>\n",
       "    .dataframe tbody tr th:only-of-type {\n",
       "        vertical-align: middle;\n",
       "    }\n",
       "\n",
       "    .dataframe tbody tr th {\n",
       "        vertical-align: top;\n",
       "    }\n",
       "\n",
       "    .dataframe thead th {\n",
       "        text-align: right;\n",
       "    }\n",
       "</style>\n",
       "<table border=\"1\" class=\"dataframe\">\n",
       "  <thead>\n",
       "    <tr style=\"text-align: right;\">\n",
       "      <th></th>\n",
       "      <th>negara</th>\n",
       "      <th>jumlah_tamu</th>\n",
       "    </tr>\n",
       "  </thead>\n",
       "  <tbody>\n",
       "    <tr>\n",
       "      <th>0</th>\n",
       "      <td>PRT</td>\n",
       "      <td>10879</td>\n",
       "    </tr>\n",
       "    <tr>\n",
       "      <th>1</th>\n",
       "      <td>FRA</td>\n",
       "      <td>7081</td>\n",
       "    </tr>\n",
       "    <tr>\n",
       "      <th>2</th>\n",
       "      <td>DEU</td>\n",
       "      <td>5012</td>\n",
       "    </tr>\n",
       "    <tr>\n",
       "      <th>3</th>\n",
       "      <td>GBR</td>\n",
       "      <td>3753</td>\n",
       "    </tr>\n",
       "    <tr>\n",
       "      <th>4</th>\n",
       "      <td>ESP</td>\n",
       "      <td>3285</td>\n",
       "    </tr>\n",
       "  </tbody>\n",
       "</table>\n",
       "</div>"
      ],
      "text/plain": [
       "  negara  jumlah_tamu\n",
       "0    PRT        10879\n",
       "1    FRA         7081\n",
       "2    DEU         5012\n",
       "3    GBR         3753\n",
       "4    ESP         3285"
      ]
     },
     "execution_count": 68,
     "metadata": {},
     "output_type": "execute_result"
    }
   ],
   "source": [
    "tamu_city2 = data_city2[data_city2['pembatalan'] == 0]['negara'].value_counts().reset_index()\n",
    "tamu_city2.columns = ['negara', 'jumlah_tamu']\n",
    "tamu_city2.head()"
   ]
  },
  {
   "cell_type": "code",
   "execution_count": 62,
   "metadata": {},
   "outputs": [
    {
     "data": {
      "text/html": [
       "<div>\n",
       "<style scoped>\n",
       "    .dataframe tbody tr th:only-of-type {\n",
       "        vertical-align: middle;\n",
       "    }\n",
       "\n",
       "    .dataframe tbody tr th {\n",
       "        vertical-align: top;\n",
       "    }\n",
       "\n",
       "    .dataframe thead th {\n",
       "        text-align: right;\n",
       "    }\n",
       "</style>\n",
       "<table border=\"1\" class=\"dataframe\">\n",
       "  <thead>\n",
       "    <tr style=\"text-align: right;\">\n",
       "      <th></th>\n",
       "      <th>dewasa</th>\n",
       "      <th>jumlah_tamu</th>\n",
       "    </tr>\n",
       "  </thead>\n",
       "  <tbody>\n",
       "    <tr>\n",
       "      <th>0</th>\n",
       "      <td>2</td>\n",
       "      <td>25756</td>\n",
       "    </tr>\n",
       "    <tr>\n",
       "      <th>1</th>\n",
       "      <td>1</td>\n",
       "      <td>5454</td>\n",
       "    </tr>\n",
       "    <tr>\n",
       "      <th>2</th>\n",
       "      <td>3</td>\n",
       "      <td>1778</td>\n",
       "    </tr>\n",
       "    <tr>\n",
       "      <th>3</th>\n",
       "      <td>0</td>\n",
       "      <td>107</td>\n",
       "    </tr>\n",
       "    <tr>\n",
       "      <th>4</th>\n",
       "      <td>4</td>\n",
       "      <td>7</td>\n",
       "    </tr>\n",
       "  </tbody>\n",
       "</table>\n",
       "</div>"
      ],
      "text/plain": [
       "   dewasa  jumlah_tamu\n",
       "0       2        25756\n",
       "1       1         5454\n",
       "2       3         1778\n",
       "3       0          107\n",
       "4       4            7"
      ]
     },
     "execution_count": 62,
     "metadata": {},
     "output_type": "execute_result"
    }
   ],
   "source": [
    "tamu_city = data_city[data_city['pembatalan'] == 1]['dewasa'].value_counts().reset_index()\n",
    "tamu_city.columns = ['dewasa', 'jumlah_tamu']\n",
    "tamu_city"
   ]
  },
  {
   "cell_type": "code",
   "execution_count": 63,
   "metadata": {},
   "outputs": [
    {
     "data": {
      "text/html": [
       "<div>\n",
       "<style scoped>\n",
       "    .dataframe tbody tr th:only-of-type {\n",
       "        vertical-align: middle;\n",
       "    }\n",
       "\n",
       "    .dataframe tbody tr th {\n",
       "        vertical-align: top;\n",
       "    }\n",
       "\n",
       "    .dataframe thead th {\n",
       "        text-align: right;\n",
       "    }\n",
       "</style>\n",
       "<table border=\"1\" class=\"dataframe\">\n",
       "  <thead>\n",
       "    <tr style=\"text-align: right;\">\n",
       "      <th></th>\n",
       "      <th>dewasa</th>\n",
       "      <th>jumlah_tamu</th>\n",
       "    </tr>\n",
       "  </thead>\n",
       "  <tbody>\n",
       "    <tr>\n",
       "      <th>0</th>\n",
       "      <td>2</td>\n",
       "      <td>32499</td>\n",
       "    </tr>\n",
       "    <tr>\n",
       "      <th>1</th>\n",
       "      <td>1</td>\n",
       "      <td>10425</td>\n",
       "    </tr>\n",
       "    <tr>\n",
       "      <th>2</th>\n",
       "      <td>3</td>\n",
       "      <td>2997</td>\n",
       "    </tr>\n",
       "    <tr>\n",
       "      <th>3</th>\n",
       "      <td>0</td>\n",
       "      <td>283</td>\n",
       "    </tr>\n",
       "    <tr>\n",
       "      <th>4</th>\n",
       "      <td>4</td>\n",
       "      <td>24</td>\n",
       "    </tr>\n",
       "  </tbody>\n",
       "</table>\n",
       "</div>"
      ],
      "text/plain": [
       "   dewasa  jumlah_tamu\n",
       "0       2        32499\n",
       "1       1        10425\n",
       "2       3         2997\n",
       "3       0          283\n",
       "4       4           24"
      ]
     },
     "execution_count": 63,
     "metadata": {},
     "output_type": "execute_result"
    }
   ],
   "source": [
    "tamu_city2 = data_city2[data_city2['pembatalan'] == 0]['dewasa'].value_counts().reset_index()\n",
    "tamu_city2.columns = ['dewasa', 'jumlah_tamu']\n",
    "tamu_city2"
   ]
  },
  {
   "cell_type": "code",
   "execution_count": 64,
   "metadata": {},
   "outputs": [
    {
     "data": {
      "text/html": [
       "<div>\n",
       "<style scoped>\n",
       "    .dataframe tbody tr th:only-of-type {\n",
       "        vertical-align: middle;\n",
       "    }\n",
       "\n",
       "    .dataframe tbody tr th {\n",
       "        vertical-align: top;\n",
       "    }\n",
       "\n",
       "    .dataframe thead th {\n",
       "        text-align: right;\n",
       "    }\n",
       "</style>\n",
       "<table border=\"1\" class=\"dataframe\">\n",
       "  <thead>\n",
       "    <tr style=\"text-align: right;\">\n",
       "      <th></th>\n",
       "      <th>anak_anak</th>\n",
       "      <th>jumlah_tamu</th>\n",
       "    </tr>\n",
       "  </thead>\n",
       "  <tbody>\n",
       "    <tr>\n",
       "      <th>0</th>\n",
       "      <td>2</td>\n",
       "      <td>938</td>\n",
       "    </tr>\n",
       "    <tr>\n",
       "      <th>1</th>\n",
       "      <td>1</td>\n",
       "      <td>48</td>\n",
       "    </tr>\n",
       "    <tr>\n",
       "      <th>2</th>\n",
       "      <td>3</td>\n",
       "      <td>23</td>\n",
       "    </tr>\n",
       "  </tbody>\n",
       "</table>\n",
       "</div>"
      ],
      "text/plain": [
       "   anak_anak  jumlah_tamu\n",
       "0          2          938\n",
       "1          1           48\n",
       "2          3           23"
      ]
     },
     "execution_count": 64,
     "metadata": {},
     "output_type": "execute_result"
    }
   ],
   "source": [
    "tamu_city = data_city[data_city['anak_anak'] == 1]['dewasa'].value_counts().reset_index()\n",
    "tamu_city.columns = ['anak_anak', 'jumlah_tamu']\n",
    "tamu_city"
   ]
  },
  {
   "cell_type": "code",
   "execution_count": 65,
   "metadata": {},
   "outputs": [
    {
     "data": {
      "text/html": [
       "<div>\n",
       "<style scoped>\n",
       "    .dataframe tbody tr th:only-of-type {\n",
       "        vertical-align: middle;\n",
       "    }\n",
       "\n",
       "    .dataframe tbody tr th {\n",
       "        vertical-align: top;\n",
       "    }\n",
       "\n",
       "    .dataframe thead th {\n",
       "        text-align: right;\n",
       "    }\n",
       "</style>\n",
       "<table border=\"1\" class=\"dataframe\">\n",
       "  <thead>\n",
       "    <tr style=\"text-align: right;\">\n",
       "      <th></th>\n",
       "      <th>anak_anak</th>\n",
       "      <th>jumlah_tamu</th>\n",
       "    </tr>\n",
       "  </thead>\n",
       "  <tbody>\n",
       "    <tr>\n",
       "      <th>0</th>\n",
       "      <td>0.0</td>\n",
       "      <td>42934</td>\n",
       "    </tr>\n",
       "    <tr>\n",
       "      <th>1</th>\n",
       "      <td>1.0</td>\n",
       "      <td>2014</td>\n",
       "    </tr>\n",
       "    <tr>\n",
       "      <th>2</th>\n",
       "      <td>2.0</td>\n",
       "      <td>1236</td>\n",
       "    </tr>\n",
       "    <tr>\n",
       "      <th>3</th>\n",
       "      <td>3.0</td>\n",
       "      <td>44</td>\n",
       "    </tr>\n",
       "  </tbody>\n",
       "</table>\n",
       "</div>"
      ],
      "text/plain": [
       "   anak_anak  jumlah_tamu\n",
       "0        0.0        42934\n",
       "1        1.0         2014\n",
       "2        2.0         1236\n",
       "3        3.0           44"
      ]
     },
     "execution_count": 65,
     "metadata": {},
     "output_type": "execute_result"
    }
   ],
   "source": [
    "tamu_city2 = data_city2[data_city2['pembatalan'] == 0]['anak_anak'].value_counts().reset_index()\n",
    "tamu_city2.columns = ['anak_anak', 'jumlah_tamu']\n",
    "tamu_city2"
   ]
  },
  {
   "cell_type": "code",
   "execution_count": 66,
   "metadata": {},
   "outputs": [
    {
     "data": {
      "text/html": [
       "<div>\n",
       "<style scoped>\n",
       "    .dataframe tbody tr th:only-of-type {\n",
       "        vertical-align: middle;\n",
       "    }\n",
       "\n",
       "    .dataframe tbody tr th {\n",
       "        vertical-align: top;\n",
       "    }\n",
       "\n",
       "    .dataframe thead th {\n",
       "        text-align: right;\n",
       "    }\n",
       "</style>\n",
       "<table border=\"1\" class=\"dataframe\">\n",
       "  <thead>\n",
       "    <tr style=\"text-align: right;\">\n",
       "      <th></th>\n",
       "      <th>meeal</th>\n",
       "      <th>jumlah_tamu</th>\n",
       "    </tr>\n",
       "  </thead>\n",
       "  <tbody>\n",
       "    <tr>\n",
       "      <th>0</th>\n",
       "      <td>BB</td>\n",
       "      <td>26667</td>\n",
       "    </tr>\n",
       "    <tr>\n",
       "      <th>1</th>\n",
       "      <td>SC</td>\n",
       "      <td>3963</td>\n",
       "    </tr>\n",
       "    <tr>\n",
       "      <th>2</th>\n",
       "      <td>HB</td>\n",
       "      <td>2437</td>\n",
       "    </tr>\n",
       "    <tr>\n",
       "      <th>3</th>\n",
       "      <td>FB</td>\n",
       "      <td>35</td>\n",
       "    </tr>\n",
       "  </tbody>\n",
       "</table>\n",
       "</div>"
      ],
      "text/plain": [
       "  meeal  jumlah_tamu\n",
       "0    BB        26667\n",
       "1    SC         3963\n",
       "2    HB         2437\n",
       "3    FB           35"
      ]
     },
     "execution_count": 66,
     "metadata": {},
     "output_type": "execute_result"
    }
   ],
   "source": [
    "tamu_city = data_city[data_city['pembatalan'] == 1]['meal'].value_counts().reset_index()\n",
    "tamu_city.columns = ['meeal', 'jumlah_tamu']\n",
    "tamu_city"
   ]
  },
  {
   "cell_type": "code",
   "execution_count": 67,
   "metadata": {},
   "outputs": [
    {
     "data": {
      "text/html": [
       "<div>\n",
       "<style scoped>\n",
       "    .dataframe tbody tr th:only-of-type {\n",
       "        vertical-align: middle;\n",
       "    }\n",
       "\n",
       "    .dataframe tbody tr th {\n",
       "        vertical-align: top;\n",
       "    }\n",
       "\n",
       "    .dataframe thead th {\n",
       "        text-align: right;\n",
       "    }\n",
       "</style>\n",
       "<table border=\"1\" class=\"dataframe\">\n",
       "  <thead>\n",
       "    <tr style=\"text-align: right;\">\n",
       "      <th></th>\n",
       "      <th>meal</th>\n",
       "      <th>jumlah_tamu</th>\n",
       "    </tr>\n",
       "  </thead>\n",
       "  <tbody>\n",
       "    <tr>\n",
       "      <th>0</th>\n",
       "      <td>BB</td>\n",
       "      <td>35638</td>\n",
       "    </tr>\n",
       "    <tr>\n",
       "      <th>1</th>\n",
       "      <td>SC</td>\n",
       "      <td>6601</td>\n",
       "    </tr>\n",
       "    <tr>\n",
       "      <th>2</th>\n",
       "      <td>HB</td>\n",
       "      <td>3980</td>\n",
       "    </tr>\n",
       "    <tr>\n",
       "      <th>3</th>\n",
       "      <td>FB</td>\n",
       "      <td>9</td>\n",
       "    </tr>\n",
       "  </tbody>\n",
       "</table>\n",
       "</div>"
      ],
      "text/plain": [
       "  meal  jumlah_tamu\n",
       "0   BB        35638\n",
       "1   SC         6601\n",
       "2   HB         3980\n",
       "3   FB            9"
      ]
     },
     "execution_count": 67,
     "metadata": {},
     "output_type": "execute_result"
    }
   ],
   "source": [
    "tamu_city2 = data_city2[data_city2['pembatalan'] == 0]['meal'].value_counts().reset_index()\n",
    "tamu_city2.columns = ['meal', 'jumlah_tamu']\n",
    "tamu_city2"
   ]
  },
  {
   "cell_type": "code",
   "execution_count": 69,
   "metadata": {},
   "outputs": [
    {
     "data": {
      "text/html": [
       "<div>\n",
       "<style scoped>\n",
       "    .dataframe tbody tr th:only-of-type {\n",
       "        vertical-align: middle;\n",
       "    }\n",
       "\n",
       "    .dataframe tbody tr th {\n",
       "        vertical-align: top;\n",
       "    }\n",
       "\n",
       "    .dataframe thead th {\n",
       "        text-align: right;\n",
       "    }\n",
       "</style>\n",
       "<table border=\"1\" class=\"dataframe\">\n",
       "  <thead>\n",
       "    <tr style=\"text-align: right;\">\n",
       "      <th></th>\n",
       "      <th>market_segment</th>\n",
       "      <th>jumlah_tamu</th>\n",
       "    </tr>\n",
       "  </thead>\n",
       "  <tbody>\n",
       "    <tr>\n",
       "      <th>0</th>\n",
       "      <td>Online TA</td>\n",
       "      <td>14491</td>\n",
       "    </tr>\n",
       "    <tr>\n",
       "      <th>1</th>\n",
       "      <td>Groups</td>\n",
       "      <td>9623</td>\n",
       "    </tr>\n",
       "    <tr>\n",
       "      <th>2</th>\n",
       "      <td>Offline TA/TO</td>\n",
       "      <td>7173</td>\n",
       "    </tr>\n",
       "    <tr>\n",
       "      <th>3</th>\n",
       "      <td>Direct</td>\n",
       "      <td>1056</td>\n",
       "    </tr>\n",
       "    <tr>\n",
       "      <th>4</th>\n",
       "      <td>Corporate</td>\n",
       "      <td>641</td>\n",
       "    </tr>\n",
       "  </tbody>\n",
       "</table>\n",
       "</div>"
      ],
      "text/plain": [
       "  market_segment  jumlah_tamu\n",
       "0      Online TA        14491\n",
       "1         Groups         9623\n",
       "2  Offline TA/TO         7173\n",
       "3         Direct         1056\n",
       "4      Corporate          641"
      ]
     },
     "execution_count": 69,
     "metadata": {},
     "output_type": "execute_result"
    }
   ],
   "source": [
    "tamu_city = data_city[data_city['pembatalan'] == 1]['market_segment'].value_counts().reset_index()\n",
    "tamu_city.columns = ['market_segment', 'jumlah_tamu']\n",
    "tamu_city.head()"
   ]
  },
  {
   "cell_type": "code",
   "execution_count": 70,
   "metadata": {},
   "outputs": [
    {
     "data": {
      "text/html": [
       "<div>\n",
       "<style scoped>\n",
       "    .dataframe tbody tr th:only-of-type {\n",
       "        vertical-align: middle;\n",
       "    }\n",
       "\n",
       "    .dataframe tbody tr th {\n",
       "        vertical-align: top;\n",
       "    }\n",
       "\n",
       "    .dataframe thead th {\n",
       "        text-align: right;\n",
       "    }\n",
       "</style>\n",
       "<table border=\"1\" class=\"dataframe\">\n",
       "  <thead>\n",
       "    <tr style=\"text-align: right;\">\n",
       "      <th></th>\n",
       "      <th>market_segment</th>\n",
       "      <th>jumlah_tamu</th>\n",
       "    </tr>\n",
       "  </thead>\n",
       "  <tbody>\n",
       "    <tr>\n",
       "      <th>0</th>\n",
       "      <td>Online TA</td>\n",
       "      <td>24257</td>\n",
       "    </tr>\n",
       "    <tr>\n",
       "      <th>1</th>\n",
       "      <td>Offline TA/TO</td>\n",
       "      <td>9574</td>\n",
       "    </tr>\n",
       "    <tr>\n",
       "      <th>2</th>\n",
       "      <td>Direct</td>\n",
       "      <td>5037</td>\n",
       "    </tr>\n",
       "    <tr>\n",
       "      <th>3</th>\n",
       "      <td>Groups</td>\n",
       "      <td>4352</td>\n",
       "    </tr>\n",
       "    <tr>\n",
       "      <th>4</th>\n",
       "      <td>Corporate</td>\n",
       "      <td>2345</td>\n",
       "    </tr>\n",
       "  </tbody>\n",
       "</table>\n",
       "</div>"
      ],
      "text/plain": [
       "  market_segment  jumlah_tamu\n",
       "0      Online TA        24257\n",
       "1  Offline TA/TO         9574\n",
       "2         Direct         5037\n",
       "3         Groups         4352\n",
       "4      Corporate         2345"
      ]
     },
     "execution_count": 70,
     "metadata": {},
     "output_type": "execute_result"
    }
   ],
   "source": [
    "tamu_city2 = data_city2[data_city2['pembatalan'] == 0]['market_segment'].value_counts().reset_index()\n",
    "tamu_city2.columns = ['market_segment', 'jumlah_tamu']\n",
    "tamu_city2.head()"
   ]
  },
  {
   "cell_type": "code",
   "execution_count": 70,
   "metadata": {},
   "outputs": [
    {
     "data": {
      "text/html": [
       "<div>\n",
       "<style scoped>\n",
       "    .dataframe tbody tr th:only-of-type {\n",
       "        vertical-align: middle;\n",
       "    }\n",
       "\n",
       "    .dataframe tbody tr th {\n",
       "        vertical-align: top;\n",
       "    }\n",
       "\n",
       "    .dataframe thead th {\n",
       "        text-align: right;\n",
       "    }\n",
       "</style>\n",
       "<table border=\"1\" class=\"dataframe\">\n",
       "  <thead>\n",
       "    <tr style=\"text-align: right;\">\n",
       "      <th></th>\n",
       "      <th>tipe_deposit</th>\n",
       "      <th>jumlah_tamu</th>\n",
       "    </tr>\n",
       "  </thead>\n",
       "  <tbody>\n",
       "    <tr>\n",
       "      <th>0</th>\n",
       "      <td>No Deposit</td>\n",
       "      <td>20244</td>\n",
       "    </tr>\n",
       "    <tr>\n",
       "      <th>1</th>\n",
       "      <td>Non Refund</td>\n",
       "      <td>12844</td>\n",
       "    </tr>\n",
       "    <tr>\n",
       "      <th>2</th>\n",
       "      <td>Refundable</td>\n",
       "      <td>14</td>\n",
       "    </tr>\n",
       "  </tbody>\n",
       "</table>\n",
       "</div>"
      ],
      "text/plain": [
       "  tipe_deposit  jumlah_tamu\n",
       "0   No Deposit        20244\n",
       "1   Non Refund        12844\n",
       "2   Refundable           14"
      ]
     },
     "execution_count": 70,
     "metadata": {},
     "output_type": "execute_result"
    }
   ],
   "source": [
    "tamu_city = data_city[data_city['pembatalan'] == 1]['tipe_deposit'].value_counts().reset_index()\n",
    "tamu_city.columns = ['tipe_deposit', 'jumlah_tamu']\n",
    "tamu_city"
   ]
  },
  {
   "cell_type": "code",
   "execution_count": 71,
   "metadata": {},
   "outputs": [
    {
     "data": {
      "text/html": [
       "<div>\n",
       "<style scoped>\n",
       "    .dataframe tbody tr th:only-of-type {\n",
       "        vertical-align: middle;\n",
       "    }\n",
       "\n",
       "    .dataframe tbody tr th {\n",
       "        vertical-align: top;\n",
       "    }\n",
       "\n",
       "    .dataframe thead th {\n",
       "        text-align: right;\n",
       "    }\n",
       "</style>\n",
       "<table border=\"1\" class=\"dataframe\">\n",
       "  <thead>\n",
       "    <tr style=\"text-align: right;\">\n",
       "      <th></th>\n",
       "      <th>tipe_deposit</th>\n",
       "      <th>jumlah_tamu</th>\n",
       "    </tr>\n",
       "  </thead>\n",
       "  <tbody>\n",
       "    <tr>\n",
       "      <th>0</th>\n",
       "      <td>No Deposit</td>\n",
       "      <td>46198</td>\n",
       "    </tr>\n",
       "    <tr>\n",
       "      <th>1</th>\n",
       "      <td>Non Refund</td>\n",
       "      <td>24</td>\n",
       "    </tr>\n",
       "    <tr>\n",
       "      <th>2</th>\n",
       "      <td>Refundable</td>\n",
       "      <td>6</td>\n",
       "    </tr>\n",
       "  </tbody>\n",
       "</table>\n",
       "</div>"
      ],
      "text/plain": [
       "  tipe_deposit  jumlah_tamu\n",
       "0   No Deposit        46198\n",
       "1   Non Refund           24\n",
       "2   Refundable            6"
      ]
     },
     "execution_count": 71,
     "metadata": {},
     "output_type": "execute_result"
    }
   ],
   "source": [
    "tamu_city2 = data_city2[data_city2['pembatalan'] == 0]['tipe_deposit'].value_counts().reset_index()\n",
    "tamu_city2.columns = ['tipe_deposit', 'jumlah_tamu']\n",
    "tamu_city2"
   ]
  },
  {
   "cell_type": "code",
   "execution_count": 72,
   "metadata": {},
   "outputs": [
    {
     "data": {
      "text/html": [
       "<div>\n",
       "<style scoped>\n",
       "    .dataframe tbody tr th:only-of-type {\n",
       "        vertical-align: middle;\n",
       "    }\n",
       "\n",
       "    .dataframe tbody tr th {\n",
       "        vertical-align: top;\n",
       "    }\n",
       "\n",
       "    .dataframe thead th {\n",
       "        text-align: right;\n",
       "    }\n",
       "</style>\n",
       "<table border=\"1\" class=\"dataframe\">\n",
       "  <thead>\n",
       "    <tr style=\"text-align: right;\">\n",
       "      <th></th>\n",
       "      <th>tipe_customer</th>\n",
       "      <th>jumlah_tamu</th>\n",
       "    </tr>\n",
       "  </thead>\n",
       "  <tbody>\n",
       "    <tr>\n",
       "      <th>0</th>\n",
       "      <td>Transient</td>\n",
       "      <td>27098</td>\n",
       "    </tr>\n",
       "    <tr>\n",
       "      <th>1</th>\n",
       "      <td>Transient-Party</td>\n",
       "      <td>4870</td>\n",
       "    </tr>\n",
       "    <tr>\n",
       "      <th>2</th>\n",
       "      <td>Contract</td>\n",
       "      <td>1105</td>\n",
       "    </tr>\n",
       "    <tr>\n",
       "      <th>3</th>\n",
       "      <td>Group</td>\n",
       "      <td>29</td>\n",
       "    </tr>\n",
       "  </tbody>\n",
       "</table>\n",
       "</div>"
      ],
      "text/plain": [
       "     tipe_customer  jumlah_tamu\n",
       "0        Transient        27098\n",
       "1  Transient-Party         4870\n",
       "2         Contract         1105\n",
       "3            Group           29"
      ]
     },
     "execution_count": 72,
     "metadata": {},
     "output_type": "execute_result"
    }
   ],
   "source": [
    "tamu_city = data_city[data_city['pembatalan'] == 1]['tipe_customer'].value_counts().reset_index()\n",
    "tamu_city.columns = ['tipe_customer', 'jumlah_tamu']\n",
    "tamu_city"
   ]
  },
  {
   "cell_type": "code",
   "execution_count": 73,
   "metadata": {},
   "outputs": [
    {
     "data": {
      "text/html": [
       "<div>\n",
       "<style scoped>\n",
       "    .dataframe tbody tr th:only-of-type {\n",
       "        vertical-align: middle;\n",
       "    }\n",
       "\n",
       "    .dataframe tbody tr th {\n",
       "        vertical-align: top;\n",
       "    }\n",
       "\n",
       "    .dataframe thead th {\n",
       "        text-align: right;\n",
       "    }\n",
       "</style>\n",
       "<table border=\"1\" class=\"dataframe\">\n",
       "  <thead>\n",
       "    <tr style=\"text-align: right;\">\n",
       "      <th></th>\n",
       "      <th>tipe_customer</th>\n",
       "      <th>jumlah_tamu</th>\n",
       "    </tr>\n",
       "  </thead>\n",
       "  <tbody>\n",
       "    <tr>\n",
       "      <th>0</th>\n",
       "      <td>Transient</td>\n",
       "      <td>32306</td>\n",
       "    </tr>\n",
       "    <tr>\n",
       "      <th>1</th>\n",
       "      <td>Transient-Party</td>\n",
       "      <td>12463</td>\n",
       "    </tr>\n",
       "    <tr>\n",
       "      <th>2</th>\n",
       "      <td>Contract</td>\n",
       "      <td>1195</td>\n",
       "    </tr>\n",
       "    <tr>\n",
       "      <th>3</th>\n",
       "      <td>Group</td>\n",
       "      <td>264</td>\n",
       "    </tr>\n",
       "  </tbody>\n",
       "</table>\n",
       "</div>"
      ],
      "text/plain": [
       "     tipe_customer  jumlah_tamu\n",
       "0        Transient        32306\n",
       "1  Transient-Party        12463\n",
       "2         Contract         1195\n",
       "3            Group          264"
      ]
     },
     "execution_count": 73,
     "metadata": {},
     "output_type": "execute_result"
    }
   ],
   "source": [
    "tamu_city2 = data_city2[data_city2['pembatalan'] == 0]['tipe_customer'].value_counts().reset_index()\n",
    "tamu_city2.columns = ['tipe_customer', 'jumlah_tamu']\n",
    "tamu_city2"
   ]
  },
  {
   "cell_type": "code",
   "execution_count": 74,
   "metadata": {},
   "outputs": [
    {
     "name": "stdout",
     "output_type": "stream",
     "text": [
      "<class 'pandas.core.frame.DataFrame'>\n",
      "RangeIndex: 119390 entries, 0 to 119389\n",
      "Data columns (total 26 columns):\n",
      " #   Column                                 Non-Null Count   Dtype  \n",
      "---  ------                                 --------------   -----  \n",
      " 0   tipe_hotel                             119390 non-null  object \n",
      " 1   pembatalan                             119390 non-null  int32  \n",
      " 2   waktu_tunggu                           119390 non-null  int64  \n",
      " 3   tahun_kedatangan                       119390 non-null  int64  \n",
      " 4   bulan_kedatangan                       119390 non-null  object \n",
      " 5   minggu_kedatangan                      119390 non-null  int64  \n",
      " 6   tanggal_kedatangan                     119390 non-null  int64  \n",
      " 7   menginap_di_weekend                    119390 non-null  int64  \n",
      " 8   menginap_in_week_nights                119390 non-null  int64  \n",
      " 9   dewasa                                 119390 non-null  int64  \n",
      " 10  anak_anak                              119390 non-null  float64\n",
      " 11  babies                                 119390 non-null  int64  \n",
      " 12  meal                                   119390 non-null  object \n",
      " 13  negara                                 119390 non-null  object \n",
      " 14  market_segment                         119390 non-null  object \n",
      " 15  tamu_berulang                          119390 non-null  int64  \n",
      " 16  pembatalan_sebelumnya                  119390 non-null  int64  \n",
      " 17  pemesanan_sebelumnya_tidak_dibatalkan  119390 non-null  int64  \n",
      " 18  tipe_ruang                             119390 non-null  object \n",
      " 19  tipe_kamar_ditentukan                  119390 non-null  object \n",
      " 20  perubahan_pemesanan                    119390 non-null  int64  \n",
      " 21  tipe_deposit                           119390 non-null  object \n",
      " 22  days_in_waiting_list                   119390 non-null  int64  \n",
      " 23  tipe_customer                          119390 non-null  object \n",
      " 24  adr                                    119390 non-null  int64  \n",
      " 25  parking                                119390 non-null  float64\n",
      "dtypes: float64(2), int32(1), int64(14), object(9)\n",
      "memory usage: 23.2+ MB\n"
     ]
    }
   ],
   "source": [
    "data.info()"
   ]
  },
  {
   "cell_type": "markdown",
   "metadata": {},
   "source": [
    "#### Feature Engeineering"
   ]
  },
  {
   "cell_type": "markdown",
   "metadata": {},
   "source": [
    "##### Disini menganalysys hubungan antara variabel ( korelasi ) dengan heat map"
   ]
  },
  {
   "cell_type": "code",
   "execution_count": 75,
   "metadata": {},
   "outputs": [
    {
     "data": {
      "image/png": "[encoded data removed]",
      "text/plain": [
       "<Figure size 1080x576 with 2 Axes>"
      ]
     },
     "metadata": {
      "needs_background": "light"
     },
     "output_type": "display_data"
    }
   ],
   "source": [
    "sns.heatmap(data.corr(),linewidths=.5,annot=True,cmap='RdYlGn')\n",
    "fig=plt.gcf()\n",
    "fig.set_size_inches(15,8)\n",
    "plt.show()"
   ]
  },
  {
   "cell_type": "markdown",
   "metadata": {},
   "source": [
    "##### Terlihat bahwa variabel memiliki hubungan terhadap variabel dependentnya"
   ]
  },
  {
   "cell_type": "code",
   "execution_count": 76,
   "metadata": {},
   "outputs": [
    {
     "data": {
      "text/plain": [
       "parking                                 -0.151077\n",
       "perubahan_pemesanan                     -0.144381\n",
       "tamu_berulang                           -0.084793\n",
       "pemesanan_sebelumnya_tidak_dibatalkan   -0.057358\n",
       "babies                                  -0.032491\n",
       "tanggal_kedatangan                      -0.006130\n",
       "menginap_di_weekend                     -0.001791\n",
       "anak_anak                                0.005036\n",
       "minggu_kedatangan                        0.008148\n",
       "tahun_kedatangan                         0.016660\n",
       "menginap_in_week_nights                  0.024765\n",
       "adr                                      0.047921\n",
       "days_in_waiting_list                     0.054186\n",
       "dewasa                                   0.060017\n",
       "pembatalan_sebelumnya                    0.110133\n",
       "waktu_tunggu                             0.293123\n",
       "pembatalan                               1.000000\n",
       "Name: pembatalan, dtype: float64"
      ]
     },
     "execution_count": 76,
     "metadata": {},
     "output_type": "execute_result"
    }
   ],
   "source": [
    "korelasi = data.corr()[\"pembatalan\"].sort_values()\n",
    "korelasi"
   ]
  },
  {
   "cell_type": "markdown",
   "metadata": {},
   "source": [
    "##### memilih variabel independet dan dependent"
   ]
  },
  {
   "cell_type": "code",
   "execution_count": 71,
   "metadata": {},
   "outputs": [
    {
     "data": {
      "text/html": [
       "<div>\n",
       "<style scoped>\n",
       "    .dataframe tbody tr th:only-of-type {\n",
       "        vertical-align: middle;\n",
       "    }\n",
       "\n",
       "    .dataframe tbody tr th {\n",
       "        vertical-align: top;\n",
       "    }\n",
       "\n",
       "    .dataframe thead th {\n",
       "        text-align: right;\n",
       "    }\n",
       "</style>\n",
       "<table border=\"1\" class=\"dataframe\">\n",
       "  <thead>\n",
       "    <tr style=\"text-align: right;\">\n",
       "      <th></th>\n",
       "      <th>tipe_deposit</th>\n",
       "      <th>tipe_customer</th>\n",
       "      <th>tipe_hotel</th>\n",
       "      <th>parking</th>\n",
       "      <th>market_segment</th>\n",
       "      <th>dewasa</th>\n",
       "      <th>tipe_ruang</th>\n",
       "      <th>pembatalan</th>\n",
       "      <th>tamu_berulang</th>\n",
       "      <th>adr</th>\n",
       "      <th>anak_anak</th>\n",
       "      <th>babies</th>\n",
       "    </tr>\n",
       "  </thead>\n",
       "  <tbody>\n",
       "    <tr>\n",
       "      <th>0</th>\n",
       "      <td>No Deposit</td>\n",
       "      <td>Transient</td>\n",
       "      <td>Resort Hotel</td>\n",
       "      <td>0.0</td>\n",
       "      <td>Direct</td>\n",
       "      <td>2</td>\n",
       "      <td>C</td>\n",
       "      <td>0</td>\n",
       "      <td>0</td>\n",
       "      <td>0</td>\n",
       "      <td>0.0</td>\n",
       "      <td>0</td>\n",
       "    </tr>\n",
       "    <tr>\n",
       "      <th>1</th>\n",
       "      <td>No Deposit</td>\n",
       "      <td>Transient</td>\n",
       "      <td>Resort Hotel</td>\n",
       "      <td>0.0</td>\n",
       "      <td>Direct</td>\n",
       "      <td>2</td>\n",
       "      <td>C</td>\n",
       "      <td>0</td>\n",
       "      <td>0</td>\n",
       "      <td>0</td>\n",
       "      <td>0.0</td>\n",
       "      <td>0</td>\n",
       "    </tr>\n",
       "    <tr>\n",
       "      <th>2</th>\n",
       "      <td>No Deposit</td>\n",
       "      <td>Transient</td>\n",
       "      <td>Resort Hotel</td>\n",
       "      <td>0.0</td>\n",
       "      <td>Direct</td>\n",
       "      <td>1</td>\n",
       "      <td>A</td>\n",
       "      <td>0</td>\n",
       "      <td>0</td>\n",
       "      <td>75</td>\n",
       "      <td>0.0</td>\n",
       "      <td>0</td>\n",
       "    </tr>\n",
       "    <tr>\n",
       "      <th>3</th>\n",
       "      <td>No Deposit</td>\n",
       "      <td>Transient</td>\n",
       "      <td>Resort Hotel</td>\n",
       "      <td>0.0</td>\n",
       "      <td>Corporate</td>\n",
       "      <td>1</td>\n",
       "      <td>A</td>\n",
       "      <td>0</td>\n",
       "      <td>0</td>\n",
       "      <td>75</td>\n",
       "      <td>0.0</td>\n",
       "      <td>0</td>\n",
       "    </tr>\n",
       "    <tr>\n",
       "      <th>4</th>\n",
       "      <td>No Deposit</td>\n",
       "      <td>Transient</td>\n",
       "      <td>Resort Hotel</td>\n",
       "      <td>0.0</td>\n",
       "      <td>Online TA</td>\n",
       "      <td>2</td>\n",
       "      <td>A</td>\n",
       "      <td>0</td>\n",
       "      <td>0</td>\n",
       "      <td>98</td>\n",
       "      <td>0.0</td>\n",
       "      <td>0</td>\n",
       "    </tr>\n",
       "  </tbody>\n",
       "</table>\n",
       "</div>"
      ],
      "text/plain": [
       "  tipe_deposit tipe_customer    tipe_hotel  parking market_segment  dewasa  \\\n",
       "0   No Deposit     Transient  Resort Hotel      0.0         Direct       2   \n",
       "1   No Deposit     Transient  Resort Hotel      0.0         Direct       2   \n",
       "2   No Deposit     Transient  Resort Hotel      0.0         Direct       1   \n",
       "3   No Deposit     Transient  Resort Hotel      0.0      Corporate       1   \n",
       "4   No Deposit     Transient  Resort Hotel      0.0      Online TA       2   \n",
       "\n",
       "  tipe_ruang  pembatalan  tamu_berulang  adr  anak_anak  babies  \n",
       "0          C           0              0    0        0.0       0  \n",
       "1          C           0              0    0        0.0       0  \n",
       "2          A           0              0   75        0.0       0  \n",
       "3          A           0              0   75        0.0       0  \n",
       "4          A           0              0   98        0.0       0  "
      ]
     },
     "execution_count": 71,
     "metadata": {},
     "output_type": "execute_result"
    }
   ],
   "source": [
    "data_baru = data[['tipe_deposit','tipe_customer','tipe_hotel','parking','market_segment',\n",
    "                      'dewasa','tipe_ruang','pembatalan','tamu_berulang','adr','anak_anak','babies']]\n",
    "data_baru.head()"
   ]
  },
  {
   "cell_type": "code",
   "execution_count": 72,
   "metadata": {},
   "outputs": [],
   "source": [
    "# data_baru.to_csv('newdata_testing_hotel.csv', index=False)\n",
    "# print('sukess') "
   ]
  },
  {
   "cell_type": "code",
   "execution_count": 73,
   "metadata": {},
   "outputs": [
    {
     "data": {
      "text/plain": [
       "tipe_deposit      0\n",
       "tipe_customer     0\n",
       "tipe_hotel        0\n",
       "parking           0\n",
       "market_segment    0\n",
       "dewasa            0\n",
       "tipe_ruang        0\n",
       "pembatalan        0\n",
       "tamu_berulang     0\n",
       "adr               0\n",
       "anak_anak         0\n",
       "babies            0\n",
       "dtype: int64"
      ]
     },
     "execution_count": 73,
     "metadata": {},
     "output_type": "execute_result"
    }
   ],
   "source": [
    "data_baru.isna().sum()"
   ]
  },
  {
   "cell_type": "code",
   "execution_count": 74,
   "metadata": {},
   "outputs": [
    {
     "name": "stdout",
     "output_type": "stream",
     "text": [
      "<class 'pandas.core.frame.DataFrame'>\n",
      "RangeIndex: 119390 entries, 0 to 119389\n",
      "Data columns (total 12 columns):\n",
      " #   Column          Non-Null Count   Dtype  \n",
      "---  ------          --------------   -----  \n",
      " 0   tipe_deposit    119390 non-null  object \n",
      " 1   tipe_customer   119390 non-null  object \n",
      " 2   tipe_hotel      119390 non-null  object \n",
      " 3   parking         119390 non-null  float64\n",
      " 4   market_segment  119390 non-null  object \n",
      " 5   dewasa          119390 non-null  int64  \n",
      " 6   tipe_ruang      119390 non-null  object \n",
      " 7   pembatalan      119390 non-null  int32  \n",
      " 8   tamu_berulang   119390 non-null  int64  \n",
      " 9   adr             119390 non-null  int64  \n",
      " 10  anak_anak       119390 non-null  float64\n",
      " 11  babies          119390 non-null  int64  \n",
      "dtypes: float64(2), int32(1), int64(4), object(5)\n",
      "memory usage: 10.5+ MB\n"
     ]
    }
   ],
   "source": [
    "data_baru.info()"
   ]
  },
  {
   "cell_type": "code",
   "execution_count": 75,
   "metadata": {},
   "outputs": [
    {
     "data": {
      "image/png": "[encoded data removed]",
      "text/plain": [
       "<Figure size 720x1152 with 2 Axes>"
      ]
     },
     "metadata": {
      "needs_background": "light"
     },
     "output_type": "display_data"
    }
   ],
   "source": [
    "sns.heatmap(data_baru.corr(),linewidths=.5,annot=True,cmap='RdYlGn')\n",
    "fig=plt.gcf()\n",
    "fig.set_size_inches(10,16)\n",
    "plt.show()"
   ]
  },
  {
   "cell_type": "markdown",
   "metadata": {},
   "source": [
    "##### Melakukan proses encoder untuk data category"
   ]
  },
  {
   "cell_type": "code",
   "execution_count": 76,
   "metadata": {},
   "outputs": [
    {
     "data": {
      "text/html": [
       "<div>\n",
       "<style scoped>\n",
       "    .dataframe tbody tr th:only-of-type {\n",
       "        vertical-align: middle;\n",
       "    }\n",
       "\n",
       "    .dataframe tbody tr th {\n",
       "        vertical-align: top;\n",
       "    }\n",
       "\n",
       "    .dataframe thead th {\n",
       "        text-align: right;\n",
       "    }\n",
       "</style>\n",
       "<table border=\"1\" class=\"dataframe\">\n",
       "  <thead>\n",
       "    <tr style=\"text-align: right;\">\n",
       "      <th></th>\n",
       "      <th>tipe_customer</th>\n",
       "      <th>tipe_hotel</th>\n",
       "      <th>market_segment</th>\n",
       "      <th>tipe_ruang</th>\n",
       "      <th>tipe_deposit</th>\n",
       "    </tr>\n",
       "  </thead>\n",
       "  <tbody>\n",
       "    <tr>\n",
       "      <th>0</th>\n",
       "      <td>Transient</td>\n",
       "      <td>Resort Hotel</td>\n",
       "      <td>Direct</td>\n",
       "      <td>C</td>\n",
       "      <td>No Deposit</td>\n",
       "    </tr>\n",
       "    <tr>\n",
       "      <th>1</th>\n",
       "      <td>Transient</td>\n",
       "      <td>Resort Hotel</td>\n",
       "      <td>Direct</td>\n",
       "      <td>C</td>\n",
       "      <td>No Deposit</td>\n",
       "    </tr>\n",
       "    <tr>\n",
       "      <th>2</th>\n",
       "      <td>Transient</td>\n",
       "      <td>Resort Hotel</td>\n",
       "      <td>Direct</td>\n",
       "      <td>A</td>\n",
       "      <td>No Deposit</td>\n",
       "    </tr>\n",
       "    <tr>\n",
       "      <th>3</th>\n",
       "      <td>Transient</td>\n",
       "      <td>Resort Hotel</td>\n",
       "      <td>Corporate</td>\n",
       "      <td>A</td>\n",
       "      <td>No Deposit</td>\n",
       "    </tr>\n",
       "    <tr>\n",
       "      <th>4</th>\n",
       "      <td>Transient</td>\n",
       "      <td>Resort Hotel</td>\n",
       "      <td>Online TA</td>\n",
       "      <td>A</td>\n",
       "      <td>No Deposit</td>\n",
       "    </tr>\n",
       "  </tbody>\n",
       "</table>\n",
       "</div>"
      ],
      "text/plain": [
       "  tipe_customer    tipe_hotel market_segment tipe_ruang tipe_deposit\n",
       "0     Transient  Resort Hotel         Direct          C   No Deposit\n",
       "1     Transient  Resort Hotel         Direct          C   No Deposit\n",
       "2     Transient  Resort Hotel         Direct          A   No Deposit\n",
       "3     Transient  Resort Hotel      Corporate          A   No Deposit\n",
       "4     Transient  Resort Hotel      Online TA          A   No Deposit"
      ]
     },
     "execution_count": 76,
     "metadata": {},
     "output_type": "execute_result"
    }
   ],
   "source": [
    "kategori = ['tipe_customer','tipe_hotel','market_segment','tipe_ruang','tipe_deposit']\n",
    "df_cat = data_baru[kategori]\n",
    "df_cat.head()"
   ]
  },
  {
   "cell_type": "code",
   "execution_count": 77,
   "metadata": {},
   "outputs": [
    {
     "name": "stderr",
     "output_type": "stream",
     "text": [
      "C:\\Users\\giryi\\AppData\\Local\\Temp/ipykernel_6068/801808329.py:5: SettingWithCopyWarning: \n",
      "A value is trying to be set on a copy of a slice from a DataFrame.\n",
      "Try using .loc[row_indexer,col_indexer] = value instead\n",
      "\n",
      "See the caveats in the documentation: https://pandas.pydata.org/pandas-docs/stable/user_guide/indexing.html#returning-a-view-versus-a-copy\n",
      "  data_baru[feature] = encoded_data.fit_transform(data_baru[feature])\n"
     ]
    },
    {
     "data": {
      "text/html": [
       "<div>\n",
       "<style scoped>\n",
       "    .dataframe tbody tr th:only-of-type {\n",
       "        vertical-align: middle;\n",
       "    }\n",
       "\n",
       "    .dataframe tbody tr th {\n",
       "        vertical-align: top;\n",
       "    }\n",
       "\n",
       "    .dataframe thead th {\n",
       "        text-align: right;\n",
       "    }\n",
       "</style>\n",
       "<table border=\"1\" class=\"dataframe\">\n",
       "  <thead>\n",
       "    <tr style=\"text-align: right;\">\n",
       "      <th></th>\n",
       "      <th>tipe_deposit</th>\n",
       "      <th>tipe_customer</th>\n",
       "      <th>tipe_hotel</th>\n",
       "      <th>parking</th>\n",
       "      <th>market_segment</th>\n",
       "      <th>dewasa</th>\n",
       "      <th>tipe_ruang</th>\n",
       "      <th>pembatalan</th>\n",
       "      <th>tamu_berulang</th>\n",
       "      <th>adr</th>\n",
       "      <th>anak_anak</th>\n",
       "      <th>babies</th>\n",
       "    </tr>\n",
       "  </thead>\n",
       "  <tbody>\n",
       "    <tr>\n",
       "      <th>0</th>\n",
       "      <td>0</td>\n",
       "      <td>2</td>\n",
       "      <td>1</td>\n",
       "      <td>0.0</td>\n",
       "      <td>3</td>\n",
       "      <td>2</td>\n",
       "      <td>2</td>\n",
       "      <td>0</td>\n",
       "      <td>0</td>\n",
       "      <td>0</td>\n",
       "      <td>0.0</td>\n",
       "      <td>0</td>\n",
       "    </tr>\n",
       "    <tr>\n",
       "      <th>1</th>\n",
       "      <td>0</td>\n",
       "      <td>2</td>\n",
       "      <td>1</td>\n",
       "      <td>0.0</td>\n",
       "      <td>3</td>\n",
       "      <td>2</td>\n",
       "      <td>2</td>\n",
       "      <td>0</td>\n",
       "      <td>0</td>\n",
       "      <td>0</td>\n",
       "      <td>0.0</td>\n",
       "      <td>0</td>\n",
       "    </tr>\n",
       "    <tr>\n",
       "      <th>2</th>\n",
       "      <td>0</td>\n",
       "      <td>2</td>\n",
       "      <td>1</td>\n",
       "      <td>0.0</td>\n",
       "      <td>3</td>\n",
       "      <td>1</td>\n",
       "      <td>0</td>\n",
       "      <td>0</td>\n",
       "      <td>0</td>\n",
       "      <td>75</td>\n",
       "      <td>0.0</td>\n",
       "      <td>0</td>\n",
       "    </tr>\n",
       "    <tr>\n",
       "      <th>3</th>\n",
       "      <td>0</td>\n",
       "      <td>2</td>\n",
       "      <td>1</td>\n",
       "      <td>0.0</td>\n",
       "      <td>2</td>\n",
       "      <td>1</td>\n",
       "      <td>0</td>\n",
       "      <td>0</td>\n",
       "      <td>0</td>\n",
       "      <td>75</td>\n",
       "      <td>0.0</td>\n",
       "      <td>0</td>\n",
       "    </tr>\n",
       "    <tr>\n",
       "      <th>4</th>\n",
       "      <td>0</td>\n",
       "      <td>2</td>\n",
       "      <td>1</td>\n",
       "      <td>0.0</td>\n",
       "      <td>6</td>\n",
       "      <td>2</td>\n",
       "      <td>0</td>\n",
       "      <td>0</td>\n",
       "      <td>0</td>\n",
       "      <td>98</td>\n",
       "      <td>0.0</td>\n",
       "      <td>0</td>\n",
       "    </tr>\n",
       "  </tbody>\n",
       "</table>\n",
       "</div>"
      ],
      "text/plain": [
       "   tipe_deposit  tipe_customer  tipe_hotel  parking  market_segment  dewasa  \\\n",
       "0             0              2           1      0.0               3       2   \n",
       "1             0              2           1      0.0               3       2   \n",
       "2             0              2           1      0.0               3       1   \n",
       "3             0              2           1      0.0               2       1   \n",
       "4             0              2           1      0.0               6       2   \n",
       "\n",
       "   tipe_ruang  pembatalan  tamu_berulang  adr  anak_anak  babies  \n",
       "0           2           0              0    0        0.0       0  \n",
       "1           2           0              0    0        0.0       0  \n",
       "2           0           0              0   75        0.0       0  \n",
       "3           0           0              0   75        0.0       0  \n",
       "4           0           0              0   98        0.0       0  "
      ]
     },
     "execution_count": 77,
     "metadata": {},
     "output_type": "execute_result"
    }
   ],
   "source": [
    "encoded_data = LabelEncoder()\n",
    "\n",
    "for feature in kategori:\n",
    "        if feature in data_baru.columns.values:\n",
    "            data_baru[feature] = encoded_data.fit_transform(data_baru[feature])\n",
    "\n",
    "data_baru.head()"
   ]
  },
  {
   "cell_type": "markdown",
   "metadata": {},
   "source": [
    "#### Modeling & Evaluation"
   ]
  },
  {
   "cell_type": "code",
   "execution_count": 78,
   "metadata": {},
   "outputs": [
    {
     "name": "stdout",
     "output_type": "stream",
     "text": [
      "X Train :  83573\n",
      "y Train :  83573\n",
      "X Test :  35817\n",
      "t Test :  35817\n"
     ]
    }
   ],
   "source": [
    "X = data_baru.drop('pembatalan', axis=1)\n",
    "y = data_baru['pembatalan']\n",
    "\n",
    "X_train, X_test, y_train, y_test = train_test_split(X, y, test_size=0.3, random_state=42)\n",
    "\n",
    "print(\"X Train : \", len(X_train))\n",
    "print(\"y Train : \", len(y_train))\n",
    "print(\"X Test : \", len(X_test))\n",
    "print(\"t Test : \", len(y_test))"
   ]
  },
  {
   "cell_type": "markdown",
   "metadata": {},
   "source": [
    "#### SVM"
   ]
  },
  {
   "cell_type": "code",
   "execution_count": 79,
   "metadata": {},
   "outputs": [],
   "source": [
    "classifier = SVC(kernel = 'rbf', gamma= 0.2)\n",
    "classifier.fit(X_train, y_train)\n",
    "\n",
    "# Predicting the Test set results\n",
    "y_pred = classifier.predict(X_test)"
   ]
  },
  {
   "cell_type": "code",
   "execution_count": 80,
   "metadata": {},
   "outputs": [
    {
     "name": "stdout",
     "output_type": "stream",
     "text": [
      "Accuracy on training data :  0.772270948751391\n"
     ]
    }
   ],
   "source": [
    "X_pred = classifier.predict(X_train)\n",
    "training_data_accuracy = accuracy_score(X_pred,y_train)\n",
    "print('Accuracy on training data : ', training_data_accuracy)\n",
    "\n"
   ]
  },
  {
   "cell_type": "code",
   "execution_count": 81,
   "metadata": {},
   "outputs": [
    {
     "name": "stdout",
     "output_type": "stream",
     "text": [
      "Accuracy on test data :  0.7608956640701343\n"
     ]
    }
   ],
   "source": [
    "test_data_accuracy = accuracy_score(y_pred,y_test)\n",
    "print('Accuracy on test data : ', test_data_accuracy)"
   ]
  },
  {
   "cell_type": "markdown",
   "metadata": {},
   "source": [
    "#### Randomforest"
   ]
  },
  {
   "cell_type": "code",
   "execution_count": 107,
   "metadata": {},
   "outputs": [],
   "source": [
    "from sklearn.ensemble import RandomForestClassifier\n",
    "from sklearn.pipeline import make_pipeline\n",
    "model = make_pipeline(StandardScaler(), RandomForestClassifier(n_estimators=100, max_depth=5))"
   ]
  },
  {
   "cell_type": "code",
   "execution_count": 108,
   "metadata": {},
   "outputs": [
    {
     "data": {
      "text/plain": [
       "Pipeline(steps=[('standardscaler', StandardScaler()),\n",
       "                ('randomforestclassifier',\n",
       "                 RandomForestClassifier(max_depth=5))])"
      ]
     },
     "execution_count": 108,
     "metadata": {},
     "output_type": "execute_result"
    }
   ],
   "source": [
    "model.fit(X_train,y_train)"
   ]
  },
  {
   "cell_type": "code",
   "execution_count": 109,
   "metadata": {},
   "outputs": [
    {
     "name": "stdout",
     "output_type": "stream",
     "text": [
      "Test Accuracy of Randomforest Algorithm: 75.09%\n"
     ]
    }
   ],
   "source": [
    "acc = model.score(X_train,y_train)*100\n",
    "accuracies = {}\n",
    "accuracies['RandomForestClassifier'] = acc\n",
    "print(\"Test Accuracy of Randomforest Algorithm: {:.2f}%\".format(acc))"
   ]
  },
  {
   "cell_type": "code",
   "execution_count": 114,
   "metadata": {},
   "outputs": [
    {
     "data": {
      "text/plain": [
       "array([0, 0, 0, ..., 0, 0, 1])"
      ]
     },
     "execution_count": 114,
     "metadata": {},
     "output_type": "execute_result"
    }
   ],
   "source": [
    "y_pred=model.predict(X_test)\n",
    "y_pred"
   ]
  },
  {
   "cell_type": "code",
   "execution_count": 116,
   "metadata": {},
   "outputs": [
    {
     "name": "stdout",
     "output_type": "stream",
     "text": [
      "              precision    recall  f1-score   support\n",
      "\n",
      "           0       1.00      0.71      0.83     31403\n",
      "           1       0.33      0.99      0.49      4414\n",
      "\n",
      "    accuracy                           0.75     35817\n",
      "   macro avg       0.66      0.85      0.66     35817\n",
      "weighted avg       0.92      0.75      0.79     35817\n",
      "\n"
     ]
    }
   ],
   "source": [
    "from sklearn.metrics import accuracy_score, confusion_matrix, classification_report\n",
    "accuracy_score(y_pred,y_test)\n",
    "print(classification_report(y_pred,y_test))"
   ]
  },
  {
   "cell_type": "code",
   "execution_count": 123,
   "metadata": {},
   "outputs": [
    {
     "name": "stdout",
     "output_type": "stream",
     "text": [
      "Cross-validation scores: 0.751\n"
     ]
    }
   ],
   "source": [
    "kfold = KFold(n_splits=5, shuffle=True, random_state=42)\n",
    "scores = cross_val_score(model, X_train, y_train, cv=kfold)\n",
    "print('Cross-validation scores: {:.3f}'.format(scores.mean()))"
   ]
  },
  {
   "cell_type": "markdown",
   "metadata": {},
   "source": [
    "#### KNN"
   ]
  },
  {
   "cell_type": "code",
   "execution_count": 117,
   "metadata": {},
   "outputs": [
    {
     "data": {
      "text/plain": [
       "KNeighborsClassifier()"
      ]
     },
     "execution_count": 117,
     "metadata": {},
     "output_type": "execute_result"
    }
   ],
   "source": [
    "from sklearn.neighbors import KNeighborsClassifier\n",
    "knn = KNeighborsClassifier()\n",
    "knn.fit(X_train, y_train)"
   ]
  },
  {
   "cell_type": "code",
   "execution_count": 118,
   "metadata": {},
   "outputs": [],
   "source": [
    "y_pred_knn = knn.predict(X_test)"
   ]
  },
  {
   "cell_type": "code",
   "execution_count": 119,
   "metadata": {},
   "outputs": [
    {
     "name": "stdout",
     "output_type": "stream",
     "text": [
      "Test Accuracy of Randomforest Algorithm: 76.38%\n"
     ]
    }
   ],
   "source": [
    "acc = knn.score(X_train,y_train)*100\n",
    "accuracies = {}\n",
    "accuracies['RandomForestClassifier'] = acc\n",
    "print(\"Test Accuracy of Randomforest Algorithm: {:.2f}%\".format(acc))"
   ]
  },
  {
   "cell_type": "code",
   "execution_count": 120,
   "metadata": {},
   "outputs": [
    {
     "name": "stdout",
     "output_type": "stream",
     "text": [
      "              precision    recall  f1-score   support\n",
      "\n",
      "           0       1.00      0.71      0.83     31403\n",
      "           1       0.33      0.99      0.49      4414\n",
      "\n",
      "    accuracy                           0.75     35817\n",
      "   macro avg       0.66      0.85      0.66     35817\n",
      "weighted avg       0.92      0.75      0.79     35817\n",
      "\n"
     ]
    }
   ],
   "source": [
    "from sklearn.metrics import accuracy_score, confusion_matrix, classification_report\n",
    "accuracy_score(y_pred,y_test)\n",
    "print(classification_report(y_pred,y_test))"
   ]
  },
  {
   "cell_type": "code",
   "execution_count": 124,
   "metadata": {},
   "outputs": [
    {
     "name": "stdout",
     "output_type": "stream",
     "text": [
      "Cross-validation scores: 0.734\n"
     ]
    }
   ],
   "source": [
    "kfold = KFold(n_splits=5, shuffle=True, random_state=42)\n",
    "scores = cross_val_score(knn, X_train, y_train, cv=kfold)\n",
    "print('Cross-validation scores: {:.3f}'.format(scores.mean()))"
   ]
  },
  {
   "cell_type": "markdown",
   "metadata": {
    "id": "qLZAG3gUKPHg"
   },
   "source": [
    "### LOAD AND PREDICT NEW DATA"
   ]
  },
  {
   "cell_type": "code",
   "execution_count": 83,
   "metadata": {
    "id": "lYpKG-VWKPwT"
   },
   "outputs": [],
   "source": [
    "import pickle\n",
    "filename = 'model_svm.sav'\n",
    "pickle.dump(classifier, open(filename, 'wb'))"
   ]
  },
  {
   "cell_type": "code",
   "execution_count": 87,
   "metadata": {},
   "outputs": [
    {
     "name": "stdout",
     "output_type": "stream",
     "text": [
      "0.7608956640701343\n"
     ]
    }
   ],
   "source": [
    "import joblib\n",
    "loaded_model = joblib.load('C:/Users/giryi/Junior DataScientist/model_svm.sav')\n",
    "result = loaded_model.score(X_test, y_test)\n",
    "print(result)"
   ]
  },
  {
   "cell_type": "markdown",
   "metadata": {
    "id": "qFWul082J_lk"
   },
   "source": [
    "### KESIMPULAN/SARAN"
   ]
  },
  {
   "cell_type": "markdown",
   "metadata": {
    "id": "ujjcbbNTJ_lk"
   },
   "source": [
    "#### Solusi \\ kebijakan  yang bisa dilakukan adalah : \n",
    " \n",
    "##### -tingkatkan pelayanan yang baik  \n",
    "##### -lengkapi fasilitas hotel terutama fasilitas keluarga yang seru  \n",
    "##### -sebuah promosi untuk bulan madu \n",
    "##### -lebih ditingkatkan kemewahan dan kenyamanan terutama untuk resort hotel\n",
    "##### -pertimbangkan untuk menwarkan hara tidak non refund\n",
    "##### -tawarkan harga yang menarik\n",
    "##### -validasi pembayaran dimuka\n",
    "##### -bisa berbagai metode pembayaran"
   ]
  },
  {
   "cell_type": "code",
   "execution_count": null,
   "metadata": {},
   "outputs": [],
   "source": []
  }
 ],
 "metadata": {
  "colab": {
   "collapsed_sections": [],
   "name": "[Temp] Classification.ipynb",
   "provenance": [],
   "toc_visible": true
  },
  "kernelspec": {
   "display_name": "Python 3 (ipykernel)",
   "language": "python",
   "name": "python3"
  },
  "language_info": {
   "codemirror_mode": {
    "name": "ipython",
    "version": 3
   },
   "file_extension": ".py",
   "mimetype": "text/x-python",
   "name": "python",
   "nbconvert_exporter": "python",
   "pygments_lexer": "ipython3",
   "version": "3.9.7"
  }
 },
 "nbformat": 4,
 "nbformat_minor": 4
}
